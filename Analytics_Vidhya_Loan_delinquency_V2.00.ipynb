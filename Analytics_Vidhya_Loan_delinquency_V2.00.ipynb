{
 "cells": [
  {
   "cell_type": "markdown",
   "metadata": {},
   "source": [
    "### Contents:\n",
    "\n",
    "#### 1.) Exploratory Data Analysis\n",
    "* 1.1) Relationship with Numeric Variables\n",
    "* 1.2) Relationship with Categorical Variables\n",
    "\n",
    "#### 2.) Feature Engineering\n",
    "* 2.1) For Categorical Variables\n",
    "* 2.2) For Numerical Variables\n",
    "\n",
    "#### 3) Recursive Feature Engineering (Dimensionality Reduction)\n",
    "* 3.1) RFE (LogisticRegression)\n",
    "* 3.2) RFE (RandomForestClassifier)\n",
    "* 3.3) RFE (DecisionTreeClassifier)\n",
    "* 3.4) RFE (AdaBoostClassifier)\n",
    "\n",
    "#### 4.) Simple Model\n",
    "* Try different models & check accuracy with classification metrics\n",
    "\n",
    "#### 5.) Solving data imbalanced problem\n",
    "* Resampling techniques & Ensemble Methods\n",
    "\n",
    "#### 6) Hypertuning Parameters\n",
    "* 6.1) Hypertuning LogisticRegression\n",
    "* 6.2) Hypertuning AdaBoostClassifier\n",
    "\n",
    "#### 7) Final apply on test data for sample submission"
   ]
  },
  {
   "cell_type": "code",
   "execution_count": 1,
   "metadata": {
    "collapsed": false
   },
   "outputs": [
    {
     "name": "stdout",
     "output_type": "stream",
     "text": [
      "D:\\IPython Jupyter\\Analytics Vidya Datasets\n"
     ]
    }
   ],
   "source": [
    "# import libraries\n",
    "\n",
    "import pandas as pd\n",
    "import numpy as np\n",
    "import matplotlib.pyplot as plt\n",
    "import seaborn as sns\n",
    "%matplotlib inline\n",
    "\n",
    "from statsmodels.stats.outliers_influence import variance_inflation_factor\n",
    "from sklearn.feature_selection import RFE, RFECV\n",
    "from sklearn.metrics import f1_score\n",
    "from sklearn.model_selection import train_test_split\n",
    "from sklearn.linear_model import LogisticRegression\n",
    "from sklearn.neighbors import NearestNeighbors\n",
    "from sklearn.tree import DecisionTreeClassifier\n",
    "from sklearn.svm import SVC\n",
    "from sklearn.ensemble import RandomForestClassifier,AdaBoostClassifier, ExtraTreesClassifier,GradientBoostingClassifier\n",
    "from sklearn.metrics import classification_report, confusion_matrix, roc_auc_score, roc_curve\n",
    "from sklearn.model_selection import cross_val_score, KFold\n",
    "from imblearn.over_sampling import SMOTE\n",
    "from sklearn.utils import resample\n",
    "from sklearn.model_selection import GridSearchCV, RandomizedSearchCV\n",
    "\n",
    "import warnings\n",
    "warnings.filterwarnings(\"ignore\")\n",
    "\n",
    "%cd D:\\IPython Jupyter\\Analytics Vidya Datasets"
   ]
  },
  {
   "cell_type": "code",
   "execution_count": 9,
   "metadata": {
    "collapsed": false,
    "scrolled": false
   },
   "outputs": [
    {
     "name": "stdout",
     "output_type": "stream",
     "text": [
      "(116058, 29) Index(['loan_id', 'source', 'financial_institution', 'interest_rate',\n",
      "       'unpaid_principal_bal', 'loan_term', 'origination_date',\n",
      "       'first_payment_date', 'loan_to_value', 'number_of_borrowers',\n",
      "       'debt_to_income_ratio', 'borrower_credit_score', 'loan_purpose',\n",
      "       'insurance_percent', 'co-borrower_credit_score', 'insurance_type', 'm1',\n",
      "       'm2', 'm3', 'm4', 'm5', 'm6', 'm7', 'm8', 'm9', 'm10', 'm11', 'm12',\n",
      "       'm13'],\n",
      "      dtype='object')\n"
     ]
    },
    {
     "data": {
      "text/html": [
       "<div>\n",
       "<style scoped>\n",
       "    .dataframe tbody tr th:only-of-type {\n",
       "        vertical-align: middle;\n",
       "    }\n",
       "\n",
       "    .dataframe tbody tr th {\n",
       "        vertical-align: top;\n",
       "    }\n",
       "\n",
       "    .dataframe thead th {\n",
       "        text-align: right;\n",
       "    }\n",
       "</style>\n",
       "<table border=\"1\" class=\"dataframe\">\n",
       "  <thead>\n",
       "    <tr style=\"text-align: right;\">\n",
       "      <th></th>\n",
       "      <th>loan_id</th>\n",
       "      <th>source</th>\n",
       "      <th>financial_institution</th>\n",
       "      <th>interest_rate</th>\n",
       "      <th>unpaid_principal_bal</th>\n",
       "      <th>loan_term</th>\n",
       "      <th>origination_date</th>\n",
       "      <th>first_payment_date</th>\n",
       "      <th>loan_to_value</th>\n",
       "      <th>number_of_borrowers</th>\n",
       "      <th>...</th>\n",
       "      <th>m4</th>\n",
       "      <th>m5</th>\n",
       "      <th>m6</th>\n",
       "      <th>m7</th>\n",
       "      <th>m8</th>\n",
       "      <th>m9</th>\n",
       "      <th>m10</th>\n",
       "      <th>m11</th>\n",
       "      <th>m12</th>\n",
       "      <th>m13</th>\n",
       "    </tr>\n",
       "  </thead>\n",
       "  <tbody>\n",
       "    <tr>\n",
       "      <th>0</th>\n",
       "      <td>268055008619</td>\n",
       "      <td>Z</td>\n",
       "      <td>Turner, Baldwin and Rhodes</td>\n",
       "      <td>4.250</td>\n",
       "      <td>214000</td>\n",
       "      <td>360</td>\n",
       "      <td>2012-03-01</td>\n",
       "      <td>05/2012</td>\n",
       "      <td>95</td>\n",
       "      <td>1.0</td>\n",
       "      <td>...</td>\n",
       "      <td>0</td>\n",
       "      <td>0</td>\n",
       "      <td>0</td>\n",
       "      <td>1</td>\n",
       "      <td>0</td>\n",
       "      <td>0</td>\n",
       "      <td>0</td>\n",
       "      <td>0</td>\n",
       "      <td>0</td>\n",
       "      <td>1</td>\n",
       "    </tr>\n",
       "    <tr>\n",
       "      <th>1</th>\n",
       "      <td>672831657627</td>\n",
       "      <td>Y</td>\n",
       "      <td>Swanson, Newton and Miller</td>\n",
       "      <td>4.875</td>\n",
       "      <td>144000</td>\n",
       "      <td>360</td>\n",
       "      <td>2012-01-01</td>\n",
       "      <td>03/2012</td>\n",
       "      <td>72</td>\n",
       "      <td>1.0</td>\n",
       "      <td>...</td>\n",
       "      <td>0</td>\n",
       "      <td>0</td>\n",
       "      <td>0</td>\n",
       "      <td>0</td>\n",
       "      <td>0</td>\n",
       "      <td>0</td>\n",
       "      <td>0</td>\n",
       "      <td>1</td>\n",
       "      <td>0</td>\n",
       "      <td>1</td>\n",
       "    </tr>\n",
       "    <tr>\n",
       "      <th>2</th>\n",
       "      <td>742515242108</td>\n",
       "      <td>Z</td>\n",
       "      <td>Thornton-Davis</td>\n",
       "      <td>3.250</td>\n",
       "      <td>366000</td>\n",
       "      <td>180</td>\n",
       "      <td>2012-01-01</td>\n",
       "      <td>03/2012</td>\n",
       "      <td>49</td>\n",
       "      <td>1.0</td>\n",
       "      <td>...</td>\n",
       "      <td>0</td>\n",
       "      <td>0</td>\n",
       "      <td>0</td>\n",
       "      <td>0</td>\n",
       "      <td>0</td>\n",
       "      <td>0</td>\n",
       "      <td>0</td>\n",
       "      <td>0</td>\n",
       "      <td>0</td>\n",
       "      <td>1</td>\n",
       "    </tr>\n",
       "    <tr>\n",
       "      <th>3</th>\n",
       "      <td>601385667462</td>\n",
       "      <td>X</td>\n",
       "      <td>OTHER</td>\n",
       "      <td>4.750</td>\n",
       "      <td>135000</td>\n",
       "      <td>360</td>\n",
       "      <td>2012-02-01</td>\n",
       "      <td>04/2012</td>\n",
       "      <td>46</td>\n",
       "      <td>2.0</td>\n",
       "      <td>...</td>\n",
       "      <td>0</td>\n",
       "      <td>0</td>\n",
       "      <td>0</td>\n",
       "      <td>0</td>\n",
       "      <td>0</td>\n",
       "      <td>1</td>\n",
       "      <td>1</td>\n",
       "      <td>1</td>\n",
       "      <td>1</td>\n",
       "      <td>1</td>\n",
       "    </tr>\n",
       "    <tr>\n",
       "      <th>4</th>\n",
       "      <td>273870029961</td>\n",
       "      <td>X</td>\n",
       "      <td>OTHER</td>\n",
       "      <td>4.750</td>\n",
       "      <td>124000</td>\n",
       "      <td>360</td>\n",
       "      <td>2012-02-01</td>\n",
       "      <td>04/2012</td>\n",
       "      <td>80</td>\n",
       "      <td>1.0</td>\n",
       "      <td>...</td>\n",
       "      <td>3</td>\n",
       "      <td>4</td>\n",
       "      <td>5</td>\n",
       "      <td>6</td>\n",
       "      <td>7</td>\n",
       "      <td>8</td>\n",
       "      <td>9</td>\n",
       "      <td>10</td>\n",
       "      <td>11</td>\n",
       "      <td>1</td>\n",
       "    </tr>\n",
       "  </tbody>\n",
       "</table>\n",
       "<p>5 rows × 29 columns</p>\n",
       "</div>"
      ],
      "text/plain": [
       "        loan_id source       financial_institution  interest_rate  \\\n",
       "0  268055008619      Z  Turner, Baldwin and Rhodes          4.250   \n",
       "1  672831657627      Y  Swanson, Newton and Miller          4.875   \n",
       "2  742515242108      Z              Thornton-Davis          3.250   \n",
       "3  601385667462      X                       OTHER          4.750   \n",
       "4  273870029961      X                       OTHER          4.750   \n",
       "\n",
       "   unpaid_principal_bal  loan_term origination_date first_payment_date  \\\n",
       "0                214000        360       2012-03-01            05/2012   \n",
       "1                144000        360       2012-01-01            03/2012   \n",
       "2                366000        180       2012-01-01            03/2012   \n",
       "3                135000        360       2012-02-01            04/2012   \n",
       "4                124000        360       2012-02-01            04/2012   \n",
       "\n",
       "   loan_to_value  number_of_borrowers  ...  m4  m5 m6  m7  m8  m9  m10  m11  \\\n",
       "0             95                  1.0  ...   0   0  0   1   0   0    0    0   \n",
       "1             72                  1.0  ...   0   0  0   0   0   0    0    1   \n",
       "2             49                  1.0  ...   0   0  0   0   0   0    0    0   \n",
       "3             46                  2.0  ...   0   0  0   0   0   1    1    1   \n",
       "4             80                  1.0  ...   3   4  5   6   7   8    9   10   \n",
       "\n",
       "   m12  m13  \n",
       "0    0    1  \n",
       "1    0    1  \n",
       "2    0    1  \n",
       "3    1    1  \n",
       "4   11    1  \n",
       "\n",
       "[5 rows x 29 columns]"
      ]
     },
     "execution_count": 9,
     "metadata": {},
     "output_type": "execute_result"
    }
   ],
   "source": [
    "df = pd.read_csv('train.csv')\n",
    "print(df.shape, df.columns)\n",
    "df.head()"
   ]
  },
  {
   "cell_type": "markdown",
   "metadata": {},
   "source": [
    "### 1.) Exploratory Data Analysis"
   ]
  },
  {
   "cell_type": "code",
   "execution_count": 10,
   "metadata": {
    "collapsed": false
   },
   "outputs": [
    {
     "data": {
      "text/plain": [
       "0"
      ]
     },
     "execution_count": 10,
     "metadata": {},
     "output_type": "execute_result"
    }
   ],
   "source": [
    "# Missing value in data\n",
    "df.isnull().sum().sum()"
   ]
  },
  {
   "cell_type": "code",
   "execution_count": 11,
   "metadata": {
    "collapsed": false,
    "scrolled": false
   },
   "outputs": [
    {
     "name": "stdout",
     "output_type": "stream",
     "text": [
      "numeric_features:  (116058, 24) Index(['loan_id', 'interest_rate', 'unpaid_principal_bal', 'loan_term',\n",
      "       'loan_to_value', 'number_of_borrowers', 'debt_to_income_ratio',\n",
      "       'borrower_credit_score', 'insurance_percent',\n",
      "       'co-borrower_credit_score', 'insurance_type', 'm1', 'm2', 'm3', 'm4',\n",
      "       'm5', 'm6', 'm7', 'm8', 'm9', 'm10', 'm11', 'm12', 'm13'],\n",
      "      dtype='object')\n",
      "categorical_features:  (116058, 5) Index(['source', 'financial_institution', 'origination_date',\n",
      "       'first_payment_date', 'loan_purpose'],\n",
      "      dtype='object')\n"
     ]
    }
   ],
   "source": [
    "numerical_features = df.select_dtypes(include=np.number)\n",
    "categorical_features = df.select_dtypes(include=np.object)\n",
    "print(\"numeric_features: \", numerical_features.shape, numerical_features.columns)\n",
    "print(\"categorical_features: \", categorical_features.shape, categorical_features.columns)"
   ]
  },
  {
   "cell_type": "markdown",
   "metadata": {},
   "source": [
    "#### 1.1) Relationship with Numeric Variables\n",
    "* Description, Skewness, Kurtosis, Histograms, Boxplots(relationship with m13), Correlation Matrix"
   ]
  },
  {
   "cell_type": "code",
   "execution_count": 12,
   "metadata": {
    "collapsed": false,
    "scrolled": true
   },
   "outputs": [
    {
     "data": {
      "text/html": [
       "<div>\n",
       "<style scoped>\n",
       "    .dataframe tbody tr th:only-of-type {\n",
       "        vertical-align: middle;\n",
       "    }\n",
       "\n",
       "    .dataframe tbody tr th {\n",
       "        vertical-align: top;\n",
       "    }\n",
       "\n",
       "    .dataframe thead th {\n",
       "        text-align: right;\n",
       "    }\n",
       "</style>\n",
       "<table border=\"1\" class=\"dataframe\">\n",
       "  <thead>\n",
       "    <tr style=\"text-align: right;\">\n",
       "      <th></th>\n",
       "      <th>loan_id</th>\n",
       "      <th>interest_rate</th>\n",
       "      <th>unpaid_principal_bal</th>\n",
       "      <th>loan_term</th>\n",
       "      <th>loan_to_value</th>\n",
       "      <th>number_of_borrowers</th>\n",
       "      <th>debt_to_income_ratio</th>\n",
       "      <th>borrower_credit_score</th>\n",
       "      <th>insurance_percent</th>\n",
       "      <th>co-borrower_credit_score</th>\n",
       "      <th>insurance_type</th>\n",
       "    </tr>\n",
       "  </thead>\n",
       "  <tbody>\n",
       "    <tr>\n",
       "      <th>count</th>\n",
       "      <td>1.160580e+05</td>\n",
       "      <td>116058.000000</td>\n",
       "      <td>1.160580e+05</td>\n",
       "      <td>116058.000000</td>\n",
       "      <td>116058.000000</td>\n",
       "      <td>116058.000000</td>\n",
       "      <td>116058.000000</td>\n",
       "      <td>116058.000000</td>\n",
       "      <td>116058.000000</td>\n",
       "      <td>116058.000000</td>\n",
       "      <td>116058.000000</td>\n",
       "    </tr>\n",
       "    <tr>\n",
       "      <th>mean</th>\n",
       "      <td>5.494155e+11</td>\n",
       "      <td>3.868961</td>\n",
       "      <td>2.082262e+05</td>\n",
       "      <td>292.280997</td>\n",
       "      <td>67.431939</td>\n",
       "      <td>1.593186</td>\n",
       "      <td>30.742293</td>\n",
       "      <td>769.926778</td>\n",
       "      <td>2.786288</td>\n",
       "      <td>459.611565</td>\n",
       "      <td>0.003257</td>\n",
       "    </tr>\n",
       "    <tr>\n",
       "      <th>std</th>\n",
       "      <td>2.597560e+11</td>\n",
       "      <td>0.461020</td>\n",
       "      <td>1.146851e+05</td>\n",
       "      <td>89.762415</td>\n",
       "      <td>17.291719</td>\n",
       "      <td>0.491242</td>\n",
       "      <td>9.730798</td>\n",
       "      <td>42.210706</td>\n",
       "      <td>8.096464</td>\n",
       "      <td>381.946926</td>\n",
       "      <td>0.056977</td>\n",
       "    </tr>\n",
       "    <tr>\n",
       "      <th>min</th>\n",
       "      <td>1.000009e+11</td>\n",
       "      <td>2.250000</td>\n",
       "      <td>1.100000e+04</td>\n",
       "      <td>60.000000</td>\n",
       "      <td>6.000000</td>\n",
       "      <td>1.000000</td>\n",
       "      <td>1.000000</td>\n",
       "      <td>0.000000</td>\n",
       "      <td>0.000000</td>\n",
       "      <td>0.000000</td>\n",
       "      <td>0.000000</td>\n",
       "    </tr>\n",
       "    <tr>\n",
       "      <th>25%</th>\n",
       "      <td>3.244656e+11</td>\n",
       "      <td>3.500000</td>\n",
       "      <td>1.200000e+05</td>\n",
       "      <td>180.000000</td>\n",
       "      <td>57.000000</td>\n",
       "      <td>1.000000</td>\n",
       "      <td>23.000000</td>\n",
       "      <td>751.000000</td>\n",
       "      <td>0.000000</td>\n",
       "      <td>0.000000</td>\n",
       "      <td>0.000000</td>\n",
       "    </tr>\n",
       "    <tr>\n",
       "      <th>50%</th>\n",
       "      <td>5.486239e+11</td>\n",
       "      <td>3.875000</td>\n",
       "      <td>1.830000e+05</td>\n",
       "      <td>360.000000</td>\n",
       "      <td>72.000000</td>\n",
       "      <td>2.000000</td>\n",
       "      <td>31.000000</td>\n",
       "      <td>782.000000</td>\n",
       "      <td>0.000000</td>\n",
       "      <td>740.000000</td>\n",
       "      <td>0.000000</td>\n",
       "    </tr>\n",
       "    <tr>\n",
       "      <th>75%</th>\n",
       "      <td>7.743034e+11</td>\n",
       "      <td>4.125000</td>\n",
       "      <td>2.780000e+05</td>\n",
       "      <td>360.000000</td>\n",
       "      <td>80.000000</td>\n",
       "      <td>2.000000</td>\n",
       "      <td>39.000000</td>\n",
       "      <td>800.000000</td>\n",
       "      <td>0.000000</td>\n",
       "      <td>791.000000</td>\n",
       "      <td>0.000000</td>\n",
       "    </tr>\n",
       "    <tr>\n",
       "      <th>max</th>\n",
       "      <td>9.999971e+11</td>\n",
       "      <td>6.750000</td>\n",
       "      <td>1.200000e+06</td>\n",
       "      <td>360.000000</td>\n",
       "      <td>97.000000</td>\n",
       "      <td>2.000000</td>\n",
       "      <td>64.000000</td>\n",
       "      <td>840.000000</td>\n",
       "      <td>40.000000</td>\n",
       "      <td>836.000000</td>\n",
       "      <td>1.000000</td>\n",
       "    </tr>\n",
       "  </tbody>\n",
       "</table>\n",
       "</div>"
      ],
      "text/plain": [
       "            loan_id  interest_rate  unpaid_principal_bal      loan_term  \\\n",
       "count  1.160580e+05  116058.000000          1.160580e+05  116058.000000   \n",
       "mean   5.494155e+11       3.868961          2.082262e+05     292.280997   \n",
       "std    2.597560e+11       0.461020          1.146851e+05      89.762415   \n",
       "min    1.000009e+11       2.250000          1.100000e+04      60.000000   \n",
       "25%    3.244656e+11       3.500000          1.200000e+05     180.000000   \n",
       "50%    5.486239e+11       3.875000          1.830000e+05     360.000000   \n",
       "75%    7.743034e+11       4.125000          2.780000e+05     360.000000   \n",
       "max    9.999971e+11       6.750000          1.200000e+06     360.000000   \n",
       "\n",
       "       loan_to_value  number_of_borrowers  debt_to_income_ratio  \\\n",
       "count  116058.000000        116058.000000         116058.000000   \n",
       "mean       67.431939             1.593186             30.742293   \n",
       "std        17.291719             0.491242              9.730798   \n",
       "min         6.000000             1.000000              1.000000   \n",
       "25%        57.000000             1.000000             23.000000   \n",
       "50%        72.000000             2.000000             31.000000   \n",
       "75%        80.000000             2.000000             39.000000   \n",
       "max        97.000000             2.000000             64.000000   \n",
       "\n",
       "       borrower_credit_score  insurance_percent  co-borrower_credit_score  \\\n",
       "count          116058.000000      116058.000000             116058.000000   \n",
       "mean              769.926778           2.786288                459.611565   \n",
       "std                42.210706           8.096464                381.946926   \n",
       "min                 0.000000           0.000000                  0.000000   \n",
       "25%               751.000000           0.000000                  0.000000   \n",
       "50%               782.000000           0.000000                740.000000   \n",
       "75%               800.000000           0.000000                791.000000   \n",
       "max               840.000000          40.000000                836.000000   \n",
       "\n",
       "       insurance_type  \n",
       "count   116058.000000  \n",
       "mean         0.003257  \n",
       "std          0.056977  \n",
       "min          0.000000  \n",
       "25%          0.000000  \n",
       "50%          0.000000  \n",
       "75%          0.000000  \n",
       "max          1.000000  "
      ]
     },
     "execution_count": 12,
     "metadata": {},
     "output_type": "execute_result"
    }
   ],
   "source": [
    "numerical_features.iloc[:,:11].describe()"
   ]
  },
  {
   "cell_type": "code",
   "execution_count": 13,
   "metadata": {
    "collapsed": false,
    "scrolled": true
   },
   "outputs": [
    {
     "data": {
      "text/html": [
       "<div>\n",
       "<style scoped>\n",
       "    .dataframe tbody tr th:only-of-type {\n",
       "        vertical-align: middle;\n",
       "    }\n",
       "\n",
       "    .dataframe tbody tr th {\n",
       "        vertical-align: top;\n",
       "    }\n",
       "\n",
       "    .dataframe thead th {\n",
       "        text-align: right;\n",
       "    }\n",
       "</style>\n",
       "<table border=\"1\" class=\"dataframe\">\n",
       "  <thead>\n",
       "    <tr style=\"text-align: right;\">\n",
       "      <th></th>\n",
       "      <th>Kurtosis</th>\n",
       "      <th>Skewness</th>\n",
       "    </tr>\n",
       "  </thead>\n",
       "  <tbody>\n",
       "    <tr>\n",
       "      <th>loan_id</th>\n",
       "      <td>-1.197545</td>\n",
       "      <td>0.004114</td>\n",
       "    </tr>\n",
       "    <tr>\n",
       "      <th>interest_rate</th>\n",
       "      <td>0.169871</td>\n",
       "      <td>0.051326</td>\n",
       "    </tr>\n",
       "    <tr>\n",
       "      <th>unpaid_principal_bal</th>\n",
       "      <td>0.556988</td>\n",
       "      <td>0.897524</td>\n",
       "    </tr>\n",
       "    <tr>\n",
       "      <th>loan_term</th>\n",
       "      <td>-1.293404</td>\n",
       "      <td>-0.692948</td>\n",
       "    </tr>\n",
       "    <tr>\n",
       "      <th>loan_to_value</th>\n",
       "      <td>0.078106</td>\n",
       "      <td>-0.765251</td>\n",
       "    </tr>\n",
       "    <tr>\n",
       "      <th>number_of_borrowers</th>\n",
       "      <td>-1.856090</td>\n",
       "      <td>-0.379397</td>\n",
       "    </tr>\n",
       "    <tr>\n",
       "      <th>debt_to_income_ratio</th>\n",
       "      <td>-0.825119</td>\n",
       "      <td>-0.194303</td>\n",
       "    </tr>\n",
       "    <tr>\n",
       "      <th>borrower_credit_score</th>\n",
       "      <td>48.502768</td>\n",
       "      <td>-3.570945</td>\n",
       "    </tr>\n",
       "    <tr>\n",
       "      <th>insurance_percent</th>\n",
       "      <td>5.871008</td>\n",
       "      <td>2.743691</td>\n",
       "    </tr>\n",
       "    <tr>\n",
       "      <th>co-borrower_credit_score</th>\n",
       "      <td>-1.849904</td>\n",
       "      <td>-0.362473</td>\n",
       "    </tr>\n",
       "    <tr>\n",
       "      <th>insurance_type</th>\n",
       "      <td>302.048078</td>\n",
       "      <td>17.436825</td>\n",
       "    </tr>\n",
       "    <tr>\n",
       "      <th>m1</th>\n",
       "      <td>665.694722</td>\n",
       "      <td>23.399482</td>\n",
       "    </tr>\n",
       "    <tr>\n",
       "      <th>m2</th>\n",
       "      <td>1423.668497</td>\n",
       "      <td>32.194304</td>\n",
       "    </tr>\n",
       "    <tr>\n",
       "      <th>m3</th>\n",
       "      <td>2486.186250</td>\n",
       "      <td>41.842040</td>\n",
       "    </tr>\n",
       "    <tr>\n",
       "      <th>m4</th>\n",
       "      <td>2909.174552</td>\n",
       "      <td>45.131291</td>\n",
       "    </tr>\n",
       "    <tr>\n",
       "      <th>m5</th>\n",
       "      <td>2070.664019</td>\n",
       "      <td>38.012865</td>\n",
       "    </tr>\n",
       "    <tr>\n",
       "      <th>m6</th>\n",
       "      <td>2310.310053</td>\n",
       "      <td>41.184750</td>\n",
       "    </tr>\n",
       "    <tr>\n",
       "      <th>m7</th>\n",
       "      <td>2381.312092</td>\n",
       "      <td>41.899434</td>\n",
       "    </tr>\n",
       "    <tr>\n",
       "      <th>m8</th>\n",
       "      <td>2238.810673</td>\n",
       "      <td>40.627494</td>\n",
       "    </tr>\n",
       "    <tr>\n",
       "      <th>m9</th>\n",
       "      <td>2237.827023</td>\n",
       "      <td>41.195572</td>\n",
       "    </tr>\n",
       "    <tr>\n",
       "      <th>m10</th>\n",
       "      <td>2030.681979</td>\n",
       "      <td>39.421632</td>\n",
       "    </tr>\n",
       "    <tr>\n",
       "      <th>m11</th>\n",
       "      <td>1949.058013</td>\n",
       "      <td>39.150505</td>\n",
       "    </tr>\n",
       "    <tr>\n",
       "      <th>m12</th>\n",
       "      <td>1864.911892</td>\n",
       "      <td>38.346412</td>\n",
       "    </tr>\n",
       "    <tr>\n",
       "      <th>m13</th>\n",
       "      <td>177.494341</td>\n",
       "      <td>13.397436</td>\n",
       "    </tr>\n",
       "  </tbody>\n",
       "</table>\n",
       "</div>"
      ],
      "text/plain": [
       "                             Kurtosis   Skewness\n",
       "loan_id                     -1.197545   0.004114\n",
       "interest_rate                0.169871   0.051326\n",
       "unpaid_principal_bal         0.556988   0.897524\n",
       "loan_term                   -1.293404  -0.692948\n",
       "loan_to_value                0.078106  -0.765251\n",
       "number_of_borrowers         -1.856090  -0.379397\n",
       "debt_to_income_ratio        -0.825119  -0.194303\n",
       "borrower_credit_score       48.502768  -3.570945\n",
       "insurance_percent            5.871008   2.743691\n",
       "co-borrower_credit_score    -1.849904  -0.362473\n",
       "insurance_type             302.048078  17.436825\n",
       "m1                         665.694722  23.399482\n",
       "m2                        1423.668497  32.194304\n",
       "m3                        2486.186250  41.842040\n",
       "m4                        2909.174552  45.131291\n",
       "m5                        2070.664019  38.012865\n",
       "m6                        2310.310053  41.184750\n",
       "m7                        2381.312092  41.899434\n",
       "m8                        2238.810673  40.627494\n",
       "m9                        2237.827023  41.195572\n",
       "m10                       2030.681979  39.421632\n",
       "m11                       1949.058013  39.150505\n",
       "m12                       1864.911892  38.346412\n",
       "m13                        177.494341  13.397436"
      ]
     },
     "execution_count": 13,
     "metadata": {},
     "output_type": "execute_result"
    }
   ],
   "source": [
    "# skewness & kurtosis\n",
    "pd.DataFrame({\"Skewness\": df.skew(), \"Kurtosis\": df.kurt()})"
   ]
  },
  {
   "cell_type": "markdown",
   "metadata": {},
   "source": [
    "* If skewness is less than −1 or greater than +1, the distribution is highly skewed. If skewness is between −1 and −½ or between +½ and +1, the distribution is moderately skewed. If skewness is between −½ and +½, the distribution is approximately symmetric"
   ]
  },
  {
   "cell_type": "code",
   "execution_count": 14,
   "metadata": {
    "collapsed": false,
    "scrolled": true
   },
   "outputs": [
    {
     "data": {
      "image/png": "[encoded data removed]",
      "text/plain": [
       "<matplotlib.figure.Figure at 0x1aaa9850e10>"
      ]
     },
     "metadata": {},
     "output_type": "display_data"
    }
   ],
   "source": [
    "fig, axs = plt.subplots(2,5, figsize=(16, 6), facecolor='w', edgecolor='k')\n",
    "fig.subplots_adjust(hspace = .5, wspace=.001)\n",
    "axs = axs.ravel()\n",
    "\n",
    "for i,j in zip([i for i in numerical_features.columns.to_list()[1:] if len(i) >3],range(10)):\n",
    "    axs[j].hist(numerical_features[i])\n",
    "    axs[j].set_title(i+': '+str(np.round(numerical_features[i].skew(),2)))"
   ]
  },
  {
   "cell_type": "markdown",
   "metadata": {},
   "source": [
    "* 'interest_rate': normally distributed\n",
    "* 'unpaid_principal_bal': moderately right skewed\n",
    "* 'loan_term': moderately left skewed\n",
    "* 'loan_to_value': moderately left skewed\n",
    "* 'number_of_borrowers': symmetric (unique data point: 2)\n",
    "* 'debt_to_income_ratio': normally distributed\n",
    "* 'borrower_credit_score': left skewed (missing datapoints if 0?)\n",
    "* 'insurance_percent': right skewed (mostly not insured)\n",
    "* 'co-borrower_credit_score': left skewed (mostly not applicable, when # borrowers = 1)\n",
    "* 'insurance_type': mostly 0 (Premium paid by borrower)\n",
    "* 'm1', 'm2', 'm3', 'm4', 'm5', 'm6', 'm7', 'm8', 'm9', 'm10', 'm11', 'm12', 'm13': Highly skewed (mostly zeros)"
   ]
  },
  {
   "cell_type": "code",
   "execution_count": 15,
   "metadata": {
    "collapsed": false,
    "scrolled": false
   },
   "outputs": [
    {
     "data": {
      "text/plain": [
       "0    115422\n",
       "1       636\n",
       "Name: m13, dtype: int64"
      ]
     },
     "execution_count": 15,
     "metadata": {},
     "output_type": "execute_result"
    }
   ],
   "source": [
    "numerical_features['m13'].value_counts()      # data is highly imbalance"
   ]
  },
  {
   "cell_type": "code",
   "execution_count": 16,
   "metadata": {
    "collapsed": false,
    "scrolled": true
   },
   "outputs": [
    {
     "data": {
      "image/png": "[encoded data removed]",
      "text/plain": [
       "<matplotlib.figure.Figure at 0x1aaaa2a7d68>"
      ]
     },
     "metadata": {},
     "output_type": "display_data"
    }
   ],
   "source": [
    "fig, ((ax1, ax2), (ax3, ax4), (ax5, ax6), (ax7, ax8), (ax9,ax10)) = plt.subplots(nrows=5, ncols=2, figsize=(14,20))\n",
    "AX = [ax1, ax2, ax3, ax4, ax5, ax6, ax7, ax8, ax9, ax10]\n",
    "\n",
    "for i,j in zip([i for i in numerical_features.columns.to_list()[1:] if len(i) >3],AX):\n",
    "    sns.boxplot(x = 'm13', y = i, data =numerical_features,ax=j)"
   ]
  },
  {
   "cell_type": "markdown",
   "metadata": {},
   "source": [
    "* If 'borrower_credit_score is low, delinquency chances are high.\n",
    "* If 'debt_to_income_ratio' is high, delinquency chances are high.\n",
    "* If 'interest_rate' is high, delinquency chances are high.\n",
    "* Other variables are not showing any significant relationship with m13 delinquency"
   ]
  },
  {
   "cell_type": "code",
   "execution_count": 17,
   "metadata": {
    "collapsed": false,
    "scrolled": true
   },
   "outputs": [
    {
     "name": "stdout",
     "output_type": "stream",
     "text": [
      "m13       0    1\n",
      "m1              \n",
      "0    115140  589\n",
      "1       250   43\n",
      "2        27    3\n",
      "3         5    1\n",
      "m13       0    1\n",
      "m2              \n",
      "0    115261  583\n",
      "1       153   43\n",
      "2         5    8\n",
      "3         2    1\n",
      "4         1    1\n",
      "m13       0    1\n",
      "m3              \n",
      "0    115287  581\n",
      "1       125   42\n",
      "2         6    8\n",
      "3         1    3\n",
      "4         2    1\n",
      "5         1    1\n",
      "m13       0    1\n",
      "m4              \n",
      "0    115307  553\n",
      "1       104   64\n",
      "2         6   10\n",
      "3         3    5\n",
      "4         1    2\n",
      "5         0    1\n",
      "6         1    1\n",
      "m13       0    1\n",
      "m5              \n",
      "0    115234  518\n",
      "1       169   80\n",
      "2        10   23\n",
      "3         5    7\n",
      "4         2    4\n",
      "5         1    2\n",
      "6         0    1\n",
      "7         1    1\n",
      "m13       0    1\n",
      "m6              \n",
      "0    115265  520\n",
      "1       145   69\n",
      "2         5   21\n",
      "3         4   12\n",
      "4         3    6\n",
      "5         0    4\n",
      "6         0    2\n",
      "7         0    1\n",
      "8         0    1\n",
      "m13       0    1\n",
      "m7              \n",
      "0    115236  492\n",
      "1       170   96\n",
      "2        11   17\n",
      "3         1   12\n",
      "4         2    6\n",
      "5         2    5\n",
      "6         0    4\n",
      "7         0    2\n",
      "8         0    1\n",
      "9         0    1\n",
      "m13       0    1\n",
      "m8              \n",
      "0    115221  475\n",
      "1       185   89\n",
      "2        12   37\n",
      "3         1    9\n",
      "4         0   10\n",
      "5         2    5\n",
      "6         1    5\n",
      "7         0    4\n",
      "9         0    1\n",
      "10        0    1\n",
      "m13       0    1\n",
      "m9              \n",
      "0    115244  443\n",
      "1       161  112\n",
      "2        10   31\n",
      "3         3   22\n",
      "4         1    6\n",
      "5         0    8\n",
      "6         2    4\n",
      "7         1    4\n",
      "8         0    4\n",
      "10        0    1\n",
      "11        0    1\n",
      "m13       0    1\n",
      "m10             \n",
      "0    115172  441\n",
      "1       226   99\n",
      "2        16   38\n",
      "3         4   17\n",
      "4         1   14\n",
      "5         0    6\n",
      "6         0    8\n",
      "7         2    3\n",
      "8         1    4\n",
      "9         0    4\n",
      "11        0    1\n",
      "12        0    1\n",
      "m13       0    1\n",
      "m11             \n",
      "0    115211  401\n",
      "1       197  123\n",
      "2         6   42\n",
      "3         4   22\n",
      "4         0   11\n",
      "5         1   11\n",
      "6         0    7\n",
      "7         2    7\n",
      "8         1    3\n",
      "9         0    4\n",
      "10        0    3\n",
      "11        0    1\n",
      "13        0    1\n",
      "m13       0    1\n",
      "m12             \n",
      "0    115221  336\n",
      "1       194  172\n",
      "2         4   43\n",
      "3         0   28\n",
      "4         1   14\n",
      "5         0    7\n",
      "6         1   13\n",
      "7         1    6\n",
      "8         0    5\n",
      "9         0    3\n",
      "10        0    5\n",
      "11        0    3\n",
      "14        0    1\n"
     ]
    }
   ],
   "source": [
    "cols = ['m1', 'm2', 'm3', 'm4', 'm5', 'm6', 'm7', 'm8', 'm9', 'm10', 'm11', 'm12']\n",
    "for i in cols:\n",
    "    print(pd.crosstab(numerical_features[i],numerical_features['m13']))"
   ]
  },
  {
   "cell_type": "code",
   "execution_count": 18,
   "metadata": {
    "collapsed": false,
    "scrolled": true
   },
   "outputs": [
    {
     "data": {
      "text/plain": [
       "m1      3\n",
       "m2      4\n",
       "m3      5\n",
       "m4      6\n",
       "m5      7\n",
       "m6      8\n",
       "m7      9\n",
       "m8     10\n",
       "m9     11\n",
       "m10    12\n",
       "m11    13\n",
       "m12    14\n",
       "dtype: int64"
      ]
     },
     "execution_count": 18,
     "metadata": {},
     "output_type": "execute_result"
    }
   ],
   "source": [
    "df[cols].max(axis=0)"
   ]
  },
  {
   "cell_type": "markdown",
   "metadata": {},
   "source": [
    "* m1 to m12: if delinquency is present only in later half of year, then chances of delinquency in m13 would be high\n",
    "* m1: Few values are 3, means first payment done after 3 months of 'origination_date'"
   ]
  },
  {
   "cell_type": "code",
   "execution_count": 19,
   "metadata": {
    "collapsed": true
   },
   "outputs": [],
   "source": [
    "# creating new column: maximum deliquency time month\n",
    "df['max_deliq'] = df[cols].max(axis=1)"
   ]
  },
  {
   "cell_type": "code",
   "execution_count": 20,
   "metadata": {
    "collapsed": false,
    "scrolled": true
   },
   "outputs": [
    {
     "name": "stdout",
     "output_type": "stream",
     "text": [
      "           max_deliq\n",
      "count  116058.000000\n",
      "mean        0.023325\n",
      "std         0.235048\n",
      "min         0.000000\n",
      "25%         0.000000\n",
      "50%         0.000000\n",
      "75%         0.000000\n",
      "max        14.000000\n",
      "m13             0    1\n",
      "max_deliq             \n",
      "0          113814  233\n",
      "1            1497  229\n",
      "2              78   66\n",
      "3              18   39\n",
      "4               8   18\n",
      "5               2   10\n",
      "6               1   13\n",
      "7               2   10\n",
      "8               2    5\n",
      "9               0    4\n",
      "10              0    4\n",
      "11              0    4\n",
      "14              0    1\n"
     ]
    },
    {
     "data": {
      "image/png": "[encoded data removed]",
      "text/plain": [
       "<matplotlib.figure.Figure at 0x1aaaa2b2828>"
      ]
     },
     "metadata": {},
     "output_type": "display_data"
    },
    {
     "data": {
      "text/plain": [
       "<matplotlib.axes._subplots.AxesSubplot at 0x1aaaa360cf8>"
      ]
     },
     "execution_count": 20,
     "metadata": {},
     "output_type": "execute_result"
    },
    {
     "data": {
      "image/png": "[encoded data removed]",
      "text/plain": [
       "<matplotlib.figure.Figure at 0x1aaaa2b62e8>"
      ]
     },
     "metadata": {},
     "output_type": "display_data"
    }
   ],
   "source": [
    "print(df[['max_deliq']].describe())\n",
    "print(pd.crosstab(df['max_deliq'],df['m13']))\n",
    "sns.boxplot('m13','max_deliq',data=df)\n",
    "plt.show()\n",
    "sns.boxplot('max_deliq','m13',data=df)"
   ]
  },
  {
   "cell_type": "code",
   "execution_count": 21,
   "metadata": {
    "collapsed": false
   },
   "outputs": [
    {
     "data": {
      "text/plain": [
       "<matplotlib.axes._subplots.AxesSubplot at 0x1aaaa42dfd0>"
      ]
     },
     "execution_count": 21,
     "metadata": {},
     "output_type": "execute_result"
    },
    {
     "data": {
      "image/png": "[encoded data removed]",
      "text/plain": [
       "<matplotlib.figure.Figure at 0x1aaa98506d8>"
      ]
     },
     "metadata": {},
     "output_type": "display_data"
    }
   ],
   "source": [
    "# Correlation matrix\n",
    "f, ax = plt.subplots(figsize=(12, 9))\n",
    "sns.heatmap(numerical_features.corr())"
   ]
  },
  {
   "cell_type": "code",
   "execution_count": 22,
   "metadata": {
    "collapsed": false,
    "scrolled": true
   },
   "outputs": [
    {
     "data": {
      "text/html": [
       "<div>\n",
       "<style scoped>\n",
       "    .dataframe tbody tr th:only-of-type {\n",
       "        vertical-align: middle;\n",
       "    }\n",
       "\n",
       "    .dataframe tbody tr th {\n",
       "        vertical-align: top;\n",
       "    }\n",
       "\n",
       "    .dataframe thead th {\n",
       "        text-align: right;\n",
       "    }\n",
       "</style>\n",
       "<table border=\"1\" class=\"dataframe\">\n",
       "  <thead>\n",
       "    <tr style=\"text-align: right;\">\n",
       "      <th></th>\n",
       "      <th>VIF Factor</th>\n",
       "      <th>features</th>\n",
       "    </tr>\n",
       "  </thead>\n",
       "  <tbody>\n",
       "    <tr>\n",
       "      <th>0</th>\n",
       "      <td>5.460580</td>\n",
       "      <td>loan_id</td>\n",
       "    </tr>\n",
       "    <tr>\n",
       "      <th>1</th>\n",
       "      <td>2.166196</td>\n",
       "      <td>interest_rate</td>\n",
       "    </tr>\n",
       "    <tr>\n",
       "      <th>2</th>\n",
       "      <td>1.119231</td>\n",
       "      <td>unpaid_principal_bal</td>\n",
       "    </tr>\n",
       "    <tr>\n",
       "      <th>3</th>\n",
       "      <td>2.309670</td>\n",
       "      <td>loan_term</td>\n",
       "    </tr>\n",
       "    <tr>\n",
       "      <th>4</th>\n",
       "      <td>1.423870</td>\n",
       "      <td>loan_to_value</td>\n",
       "    </tr>\n",
       "    <tr>\n",
       "      <th>5</th>\n",
       "      <td>58.742619</td>\n",
       "      <td>number_of_borrowers</td>\n",
       "    </tr>\n",
       "    <tr>\n",
       "      <th>6</th>\n",
       "      <td>1.084515</td>\n",
       "      <td>debt_to_income_ratio</td>\n",
       "    </tr>\n",
       "    <tr>\n",
       "      <th>7</th>\n",
       "      <td>0.493528</td>\n",
       "      <td>borrower_credit_score</td>\n",
       "    </tr>\n",
       "    <tr>\n",
       "      <th>8</th>\n",
       "      <td>1.344911</td>\n",
       "      <td>insurance_percent</td>\n",
       "    </tr>\n",
       "    <tr>\n",
       "      <th>9</th>\n",
       "      <td>60.138336</td>\n",
       "      <td>co-borrower_credit_score</td>\n",
       "    </tr>\n",
       "    <tr>\n",
       "      <th>10</th>\n",
       "      <td>1.025147</td>\n",
       "      <td>insurance_type</td>\n",
       "    </tr>\n",
       "    <tr>\n",
       "      <th>11</th>\n",
       "      <td>1.100272</td>\n",
       "      <td>m1</td>\n",
       "    </tr>\n",
       "    <tr>\n",
       "      <th>12</th>\n",
       "      <td>1.453429</td>\n",
       "      <td>m2</td>\n",
       "    </tr>\n",
       "    <tr>\n",
       "      <th>13</th>\n",
       "      <td>1.708287</td>\n",
       "      <td>m3</td>\n",
       "    </tr>\n",
       "    <tr>\n",
       "      <th>14</th>\n",
       "      <td>2.355277</td>\n",
       "      <td>m4</td>\n",
       "    </tr>\n",
       "    <tr>\n",
       "      <th>15</th>\n",
       "      <td>2.473963</td>\n",
       "      <td>m5</td>\n",
       "    </tr>\n",
       "    <tr>\n",
       "      <th>16</th>\n",
       "      <td>3.153181</td>\n",
       "      <td>m6</td>\n",
       "    </tr>\n",
       "    <tr>\n",
       "      <th>17</th>\n",
       "      <td>3.816377</td>\n",
       "      <td>m7</td>\n",
       "    </tr>\n",
       "    <tr>\n",
       "      <th>18</th>\n",
       "      <td>4.465042</td>\n",
       "      <td>m8</td>\n",
       "    </tr>\n",
       "    <tr>\n",
       "      <th>19</th>\n",
       "      <td>6.065714</td>\n",
       "      <td>m9</td>\n",
       "    </tr>\n",
       "    <tr>\n",
       "      <th>20</th>\n",
       "      <td>6.132504</td>\n",
       "      <td>m10</td>\n",
       "    </tr>\n",
       "    <tr>\n",
       "      <th>21</th>\n",
       "      <td>7.147112</td>\n",
       "      <td>m11</td>\n",
       "    </tr>\n",
       "    <tr>\n",
       "      <th>22</th>\n",
       "      <td>4.875887</td>\n",
       "      <td>m12</td>\n",
       "    </tr>\n",
       "    <tr>\n",
       "      <th>23</th>\n",
       "      <td>1.293868</td>\n",
       "      <td>m13</td>\n",
       "    </tr>\n",
       "  </tbody>\n",
       "</table>\n",
       "</div>"
      ],
      "text/plain": [
       "    VIF Factor                  features\n",
       "0     5.460580                   loan_id\n",
       "1     2.166196             interest_rate\n",
       "2     1.119231      unpaid_principal_bal\n",
       "3     2.309670                 loan_term\n",
       "4     1.423870             loan_to_value\n",
       "5    58.742619       number_of_borrowers\n",
       "6     1.084515      debt_to_income_ratio\n",
       "7     0.493528     borrower_credit_score\n",
       "8     1.344911         insurance_percent\n",
       "9    60.138336  co-borrower_credit_score\n",
       "10    1.025147            insurance_type\n",
       "11    1.100272                        m1\n",
       "12    1.453429                        m2\n",
       "13    1.708287                        m3\n",
       "14    2.355277                        m4\n",
       "15    2.473963                        m5\n",
       "16    3.153181                        m6\n",
       "17    3.816377                        m7\n",
       "18    4.465042                        m8\n",
       "19    6.065714                        m9\n",
       "20    6.132504                       m10\n",
       "21    7.147112                       m11\n",
       "22    4.875887                       m12\n",
       "23    1.293868                       m13"
      ]
     },
     "execution_count": 22,
     "metadata": {},
     "output_type": "execute_result"
    }
   ],
   "source": [
    "vif = pd.DataFrame()\n",
    "vif[\"VIF Factor\"] = [variance_inflation_factor(numerical_features.values, i) for i in range(numerical_features.shape[1])]\n",
    "vif[\"features\"] = numerical_features.columns\n",
    "vif"
   ]
  },
  {
   "cell_type": "markdown",
   "metadata": {},
   "source": [
    "* Multi-collinearity between m1 to m12 variables (mostly 2nd half of year)\n",
    "* 'number_of_borrowers' & 'co-borrower_credit_score' are correlated to each other (will drop 'co-borrower_credit_score')"
   ]
  },
  {
   "cell_type": "code",
   "execution_count": null,
   "metadata": {
    "collapsed": true
   },
   "outputs": [],
   "source": []
  },
  {
   "cell_type": "code",
   "execution_count": null,
   "metadata": {
    "collapsed": true
   },
   "outputs": [],
   "source": []
  },
  {
   "cell_type": "markdown",
   "metadata": {},
   "source": [
    "#### 1.2) Relationship with Categorical Variables"
   ]
  },
  {
   "cell_type": "code",
   "execution_count": 23,
   "metadata": {
    "collapsed": false
   },
   "outputs": [
    {
     "data": {
      "text/plain": [
       "((116058, 5), Index(['source', 'financial_institution', 'origination_date',\n",
       "        'first_payment_date', 'loan_purpose'],\n",
       "       dtype='object'))"
      ]
     },
     "execution_count": 23,
     "metadata": {},
     "output_type": "execute_result"
    }
   ],
   "source": [
    "categorical_features.shape, categorical_features.columns"
   ]
  },
  {
   "cell_type": "code",
   "execution_count": 24,
   "metadata": {
    "collapsed": false,
    "scrolled": true
   },
   "outputs": [
    {
     "name": "stdout",
     "output_type": "stream",
     "text": [
      "Total unique values for source 3\n",
      "Value Counts for source \n",
      " X    63858\n",
      "Y    37554\n",
      "Z    14646\n",
      "Name: source, dtype: int64 \n",
      "\n",
      "Total unique values for financial_institution 19\n",
      "Value Counts for financial_institution \n",
      " OTHER                          49699\n",
      "Browning-Hart                  31852\n",
      "Swanson, Newton and Miller      6874\n",
      "Edwards-Hoffman                 4857\n",
      "Martinez, Duffy and Bird        4715\n",
      "Miller, Mcclure and Allen       3158\n",
      "Nicholson Group                 2116\n",
      "Turner, Baldwin and Rhodes      1846\n",
      "Suarez Inc                      1790\n",
      "Cole, Brooks and Vincent        1642\n",
      "Richards-Walters                1459\n",
      "Taylor, Hunt and Rodriguez      1259\n",
      "Sanchez-Robinson                1193\n",
      "Sanchez, Hays and Wilkerson      853\n",
      "Romero, Woods and Johnson        750\n",
      "Thornton-Davis                   651\n",
      "Anderson-Taylor                  483\n",
      "Richardson Ltd                   473\n",
      "Chapman-Mcmahon                  388\n",
      "Name: financial_institution, dtype: int64 \n",
      "\n",
      "Total unique values for origination_date 3\n",
      "Value Counts for origination_date \n",
      " 2012-02-01    52334\n",
      "2012-01-01    49093\n",
      "2012-03-01    14631\n",
      "Name: origination_date, dtype: int64 \n",
      "\n",
      "Total unique values for first_payment_date 4\n",
      "Value Counts for first_payment_date \n",
      " 04/2012    52840\n",
      "03/2012    47680\n",
      "05/2012    15014\n",
      "02/2012      524\n",
      "Name: first_payment_date, dtype: int64 \n",
      "\n",
      "Total unique values for loan_purpose 3\n",
      "Value Counts for loan_purpose \n",
      " A23    58462\n",
      "B12    29383\n",
      "C86    28213\n",
      "Name: loan_purpose, dtype: int64 \n",
      "\n"
     ]
    }
   ],
   "source": [
    "for i in categorical_features.columns.to_list():\n",
    "    print(\"Total unique values for\",i,len(categorical_features[i].unique()))\n",
    "    print(\"Value Counts for\",i,'\\n',categorical_features[i].value_counts(),'\\n')"
   ]
  },
  {
   "cell_type": "code",
   "execution_count": 25,
   "metadata": {
    "collapsed": false,
    "scrolled": true
   },
   "outputs": [
    {
     "data": {
      "image/png": "[encoded data removed]",
      "text/plain": [
       "<matplotlib.figure.Figure at 0x1aaaa419978>"
      ]
     },
     "metadata": {},
     "output_type": "display_data"
    }
   ],
   "source": [
    "fig, ((ax1, ax2), (ax3, ax4), (ax5, ax6)) = plt.subplots(nrows=3, ncols=2, figsize=(14,10))\n",
    "AX = [ax1, ax2, ax3, ax4, ax5]\n",
    "\n",
    "for i,j in zip(categorical_features.columns.to_list(),AX):\n",
    "    temp = pd.crosstab(df[i],df['m13'])\n",
    "    temp.plot(kind='bar',stacked=True,color=['red','green'],grid=False,ax=j)"
   ]
  },
  {
   "cell_type": "markdown",
   "metadata": {},
   "source": [
    "* Counts of m13 (when=1) are very low, so above bar graph don't make any sense, let's look at crosstab only"
   ]
  },
  {
   "cell_type": "code",
   "execution_count": 26,
   "metadata": {
    "collapsed": false,
    "scrolled": true
   },
   "outputs": [
    {
     "name": "stdout",
     "output_type": "stream",
     "text": [
      "m13         0    1\n",
      "source            \n",
      "X       63553  305\n",
      "Y       37307  247\n",
      "Z       14562   84\n",
      "m13                              0    1\n",
      "financial_institution                  \n",
      "Anderson-Taylor                480    3\n",
      "Browning-Hart                31677  175\n",
      "Chapman-Mcmahon                388    0\n",
      "Cole, Brooks and Vincent      1630   12\n",
      "Edwards-Hoffman               4816   41\n",
      "Martinez, Duffy and Bird      4692   23\n",
      "Miller, Mcclure and Allen     3139   19\n",
      "Nicholson Group               2105   11\n",
      "OTHER                        49430  269\n",
      "Richards-Walters              1454    5\n",
      "Richardson Ltd                 472    1\n",
      "Romero, Woods and Johnson      748    2\n",
      "Sanchez, Hays and Wilkerson    851    2\n",
      "Sanchez-Robinson              1192    1\n",
      "Suarez Inc                    1785    5\n",
      "Swanson, Newton and Miller    6828   46\n",
      "Taylor, Hunt and Rodriguez    1255    4\n",
      "Thornton-Davis                 648    3\n",
      "Turner, Baldwin and Rhodes    1832   14\n",
      "m13                   0    1\n",
      "origination_date            \n",
      "2012-01-01        48789  304\n",
      "2012-02-01        52055  279\n",
      "2012-03-01        14578   53\n",
      "m13                     0    1\n",
      "first_payment_date            \n",
      "02/2012               518    6\n",
      "03/2012             47384  296\n",
      "04/2012             52560  280\n",
      "05/2012             14960   54\n",
      "m13               0    1\n",
      "loan_purpose            \n",
      "A23           58251  211\n",
      "B12           29164  219\n",
      "C86           28007  206\n"
     ]
    }
   ],
   "source": [
    "for i in categorical_features.columns.to_list():\n",
    "    print(pd.crosstab(df[i],df['m13']))"
   ]
  },
  {
   "cell_type": "markdown",
   "metadata": {},
   "source": [
    "* Deliquency in m13 is there when;\n",
    "    * 'source' is either X or Y\n",
    "    * 'financial_institution' is either 'Browning-Hart' or 'Other'\n",
    "    * 'origination_date' is either Jan-12 or Feb-12\n",
    "    * 'first_payment_date' is either Mar-12 or Apr-12\n",
    "    * 'loan_purpose': either 'B12' or 'C86' (relatively)\n",
    "* Above interpretation may not be true because mostly data also lies in these categories, so as deliquency"
   ]
  },
  {
   "cell_type": "markdown",
   "metadata": {},
   "source": [
    "### 2.) Feature Engineering"
   ]
  },
  {
   "cell_type": "markdown",
   "metadata": {},
   "source": [
    "#### 2.1) For Categorical Variables"
   ]
  },
  {
   "cell_type": "code",
   "execution_count": 27,
   "metadata": {
    "collapsed": false
   },
   "outputs": [
    {
     "data": {
      "text/plain": [
       "((116058, 29), (35866, 28), (35866, 2))"
      ]
     },
     "execution_count": 27,
     "metadata": {},
     "output_type": "execute_result"
    }
   ],
   "source": [
    "# Loading raw_data again\n",
    "\n",
    "df_train = pd.read_csv('train.csv')\n",
    "df_test = pd.read_csv('test.csv')\n",
    "df_sample_submission = pd.read_csv('sample_submission.csv')\n",
    "\n",
    "df_train.shape, df_test.shape, df_sample_submission.shape"
   ]
  },
  {
   "cell_type": "code",
   "execution_count": 28,
   "metadata": {
    "collapsed": false
   },
   "outputs": [
    {
     "data": {
      "text/plain": [
       "(array(['2012-03-01', '2012-01-01', '2012-02-01'], dtype=object),\n",
       " array(['05/2012', '03/2012', '04/2012', '02/2012'], dtype=object))"
      ]
     },
     "execution_count": 28,
     "metadata": {},
     "output_type": "execute_result"
    }
   ],
   "source": [
    "df_train['origination_date'].unique(), df_train['first_payment_date'].unique()"
   ]
  },
  {
   "cell_type": "code",
   "execution_count": 29,
   "metadata": {
    "collapsed": false
   },
   "outputs": [
    {
     "data": {
      "text/plain": [
       "(array(['01/02/12', '01/01/12', '01/03/12'], dtype=object),\n",
       " array(['Apr-12', 'Mar-12', 'May-12', 'Feb-12'], dtype=object))"
      ]
     },
     "execution_count": 29,
     "metadata": {},
     "output_type": "execute_result"
    }
   ],
   "source": [
    "df_test['origination_date'].unique(), df_test['first_payment_date'].unique()"
   ]
  },
  {
   "cell_type": "code",
   "execution_count": 30,
   "metadata": {
    "collapsed": false,
    "scrolled": false
   },
   "outputs": [
    {
     "name": "stdout",
     "output_type": "stream",
     "text": [
      "(151924, 29)\n"
     ]
    }
   ],
   "source": [
    "df_test['m13'] = 'NA'\n",
    "df = df_train.append(df_test, ignore_index=True)\n",
    "print(df.shape)"
   ]
  },
  {
   "cell_type": "code",
   "execution_count": 31,
   "metadata": {
    "collapsed": false,
    "scrolled": false
   },
   "outputs": [
    {
     "data": {
      "text/html": [
       "<div>\n",
       "<style scoped>\n",
       "    .dataframe tbody tr th:only-of-type {\n",
       "        vertical-align: middle;\n",
       "    }\n",
       "\n",
       "    .dataframe tbody tr th {\n",
       "        vertical-align: top;\n",
       "    }\n",
       "\n",
       "    .dataframe thead th {\n",
       "        text-align: right;\n",
       "    }\n",
       "</style>\n",
       "<table border=\"1\" class=\"dataframe\">\n",
       "  <thead>\n",
       "    <tr style=\"text-align: right;\">\n",
       "      <th>m13</th>\n",
       "      <th>0</th>\n",
       "      <th>1</th>\n",
       "      <th>NA</th>\n",
       "    </tr>\n",
       "    <tr>\n",
       "      <th>first_payment_delay</th>\n",
       "      <th></th>\n",
       "      <th></th>\n",
       "      <th></th>\n",
       "    </tr>\n",
       "  </thead>\n",
       "  <tbody>\n",
       "    <tr>\n",
       "      <th>1</th>\n",
       "      <td>2976</td>\n",
       "      <td>17</td>\n",
       "      <td>884</td>\n",
       "    </tr>\n",
       "    <tr>\n",
       "      <th>2</th>\n",
       "      <td>108719</td>\n",
       "      <td>605</td>\n",
       "      <td>33878</td>\n",
       "    </tr>\n",
       "    <tr>\n",
       "      <th>3</th>\n",
       "      <td>3727</td>\n",
       "      <td>14</td>\n",
       "      <td>1104</td>\n",
       "    </tr>\n",
       "  </tbody>\n",
       "</table>\n",
       "</div>"
      ],
      "text/plain": [
       "m13                       0    1     NA\n",
       "first_payment_delay                    \n",
       "1                      2976   17    884\n",
       "2                    108719  605  33878\n",
       "3                      3727   14   1104"
      ]
     },
     "execution_count": 31,
     "metadata": {},
     "output_type": "execute_result"
    }
   ],
   "source": [
    "# Dates in both train & test data are objects, so will use pandas's map function & generate new column as first payment delay (in months)\n",
    "df['origination_date'] = df['origination_date'].map({\"2012-01-01\": 1, \"2012-02-01\": 2, \"2012-03-01\": 3,\n",
    "                                                     \"01/01/12\": 1, \"01/02/12\": 2, \"01/03/12\": 3})\n",
    "df['first_payment_date'] = df['first_payment_date'].map({\"02/2012\":2, \"03/2012\":3, \"04/2012\":4, \"05/2012\":5,\n",
    "                                                         \"Feb-12\":2, \"Mar-12\":3, \"Apr-12\":4, \"May-12\":5})\n",
    "\n",
    "df['first_payment_delay'] = df['first_payment_date'] - df['origination_date']\n",
    "pd.crosstab(df['first_payment_delay'], df['m13'])"
   ]
  },
  {
   "cell_type": "code",
   "execution_count": 32,
   "metadata": {
    "collapsed": false
   },
   "outputs": [
    {
     "data": {
      "text/plain": [
       "0"
      ]
     },
     "execution_count": 32,
     "metadata": {},
     "output_type": "execute_result"
    }
   ],
   "source": [
    "df.isnull().sum().sum()"
   ]
  },
  {
   "cell_type": "markdown",
   "metadata": {},
   "source": [
    "* 95% of deliquency is there when first payment delay is of 2 months, however it also doesn't help us because 83% of data comes under this category only (first payment delay: 2 months)"
   ]
  },
  {
   "cell_type": "markdown",
   "metadata": {},
   "source": [
    "* Deliquency in m13 is there when;\n",
    "    * 'source' is either X or Y\n",
    "    * 'financial_institution' is either 'Browning-Hart' or 'Other'\n",
    "    * 'origination_date' is either Jan-12 or Feb-12\n",
    "    * 'first_payment_date' is either Mar-12 or Apr-12\n",
    "    * 'loan_purpose': either 'B12' or 'C86' (relatively)\n",
    "* Above interpretation may not be true because mostly data also lies in these categories, so as deliquency"
   ]
  },
  {
   "cell_type": "code",
   "execution_count": 33,
   "metadata": {
    "collapsed": false
   },
   "outputs": [
    {
     "name": "stdout",
     "output_type": "stream",
     "text": [
      "0    109994\n",
      "1     41930\n",
      "Name: financial_institution_new, dtype: int64\n",
      "1    132779\n",
      "0     19145\n",
      "Name: source_new, dtype: int64\n"
     ]
    }
   ],
   "source": [
    "df['financial_institution_new'] = df['financial_institution'].apply(lambda x: 1 if (x == 'Browning-Hart') or (x == 'Others') else 0)\n",
    "df['source_new'] = df['source'].apply(lambda x: 1 if (x == 'X') or (x == 'Y') else 0)\n",
    "print(df['financial_institution_new'].value_counts())\n",
    "print(df['source_new'].value_counts())"
   ]
  },
  {
   "cell_type": "code",
   "execution_count": 34,
   "metadata": {
    "collapsed": false
   },
   "outputs": [
    {
     "name": "stdout",
     "output_type": "stream",
     "text": [
      "(151924, 51)\n",
      "(151924, 54)\n",
      "(151924, 57)\n"
     ]
    }
   ],
   "source": [
    "# One hot encoding for categorical variables\n",
    "temp = pd.get_dummies(df['financial_institution'])\n",
    "df = df.join(temp)\n",
    "print(df.shape)\n",
    "\n",
    "temp = pd.get_dummies(df['source'])\n",
    "df = df.join(temp)\n",
    "print(df.shape)\n",
    "\n",
    "temp = pd.get_dummies(df['loan_purpose'])\n",
    "df = df.join(temp)\n",
    "print(df.shape)\n"
   ]
  },
  {
   "cell_type": "markdown",
   "metadata": {},
   "source": [
    "#### 2.2) For Numerical Variables"
   ]
  },
  {
   "cell_type": "code",
   "execution_count": 35,
   "metadata": {
    "collapsed": false,
    "scrolled": true
   },
   "outputs": [
    {
     "name": "stdout",
     "output_type": "stream",
     "text": [
      "0    151281\n",
      "1       643\n",
      "Name: m12_new, dtype: int64\n",
      "m13           0    1     NA\n",
      "m12_new                    \n",
      "0        115221  336  35724\n",
      "1           201  300    142\n",
      "0    150753\n",
      "1      1171\n",
      "Name: last3_months, dtype: int64\n"
     ]
    },
    {
     "data": {
      "text/html": [
       "<div>\n",
       "<style scoped>\n",
       "    .dataframe tbody tr th:only-of-type {\n",
       "        vertical-align: middle;\n",
       "    }\n",
       "\n",
       "    .dataframe tbody tr th {\n",
       "        vertical-align: top;\n",
       "    }\n",
       "\n",
       "    .dataframe thead th {\n",
       "        text-align: right;\n",
       "    }\n",
       "</style>\n",
       "<table border=\"1\" class=\"dataframe\">\n",
       "  <thead>\n",
       "    <tr style=\"text-align: right;\">\n",
       "      <th>m13</th>\n",
       "      <th>0</th>\n",
       "      <th>1</th>\n",
       "      <th>NA</th>\n",
       "    </tr>\n",
       "    <tr>\n",
       "      <th>last3_months</th>\n",
       "      <th></th>\n",
       "      <th></th>\n",
       "      <th></th>\n",
       "    </tr>\n",
       "  </thead>\n",
       "  <tbody>\n",
       "    <tr>\n",
       "      <th>0</th>\n",
       "      <td>114864</td>\n",
       "      <td>279</td>\n",
       "      <td>35610</td>\n",
       "    </tr>\n",
       "    <tr>\n",
       "      <th>1</th>\n",
       "      <td>558</td>\n",
       "      <td>357</td>\n",
       "      <td>256</td>\n",
       "    </tr>\n",
       "  </tbody>\n",
       "</table>\n",
       "</div>"
      ],
      "text/plain": [
       "m13                0    1     NA\n",
       "last3_months                    \n",
       "0             114864  279  35610\n",
       "1                558  357    256"
      ]
     },
     "execution_count": 35,
     "metadata": {},
     "output_type": "execute_result"
    }
   ],
   "source": [
    "cols = ['m1', 'm2', 'm3', 'm4', 'm5', 'm6', 'm7', 'm8', 'm9', 'm10', 'm11', 'm12']\n",
    "\n",
    "# creating new column: maximum deliquency time month\n",
    "df['max_deliq'] = df[cols].max(axis=1)\n",
    "\n",
    "# if 'm12'>0 then 1 else 0\n",
    "df['m12_new'] = df['m12'].apply(lambda x: 1 if x > 0 else 0)\n",
    "print(df['m12_new'].value_counts())\n",
    "print(pd.crosstab(df['m12_new'],df['m13']))\n",
    "\n",
    "# if delinquency is there in any of last 3 months\n",
    "df['last3_months'] = 0\n",
    "df.loc[(df['m10'] > 0) | (df['m11'] > 0) | (df['m12'] > 0),'last3_months'] = 1\n",
    "\n",
    "print(df['last3_months'].value_counts())\n",
    "pd.crosstab(df['last3_months'],df['m13'])"
   ]
  },
  {
   "cell_type": "code",
   "execution_count": 37,
   "metadata": {
    "collapsed": false,
    "scrolled": false
   },
   "outputs": [
    {
     "data": {
      "text/plain": [
       "Index(['loan_id', 'source', 'financial_institution', 'interest_rate',\n",
       "       'unpaid_principal_bal', 'loan_term', 'origination_date',\n",
       "       'first_payment_date', 'loan_to_value', 'number_of_borrowers',\n",
       "       'debt_to_income_ratio', 'borrower_credit_score', 'loan_purpose',\n",
       "       'insurance_percent', 'co-borrower_credit_score', 'insurance_type', 'm1',\n",
       "       'm2', 'm3', 'm4', 'm5', 'm6', 'm7', 'm8', 'm9', 'm10', 'm11', 'm12',\n",
       "       'm13', 'first_payment_delay', 'financial_institution_new', 'source_new',\n",
       "       'Anderson-Taylor', 'Browning-Hart', 'Chapman-Mcmahon',\n",
       "       'Cole, Brooks and Vincent', 'Edwards-Hoffman',\n",
       "       'Martinez, Duffy and Bird', 'Miller, Mcclure and Allen',\n",
       "       'Nicholson Group', 'OTHER', 'Richards-Walters', 'Richardson Ltd',\n",
       "       'Romero, Woods and Johnson', 'Sanchez, Hays and Wilkerson',\n",
       "       'Sanchez-Robinson', 'Suarez Inc', 'Swanson, Newton and Miller',\n",
       "       'Taylor, Hunt and Rodriguez', 'Thornton-Davis',\n",
       "       'Turner, Baldwin and Rhodes', 'X', 'Y', 'Z', 'A23', 'B12', 'C86',\n",
       "       'max_deliq', 'm12_new', 'last3_months'],\n",
       "      dtype='object')"
      ]
     },
     "execution_count": 37,
     "metadata": {},
     "output_type": "execute_result"
    }
   ],
   "source": [
    "df.columns"
   ]
  },
  {
   "cell_type": "code",
   "execution_count": 56,
   "metadata": {
    "collapsed": false
   },
   "outputs": [],
   "source": [
    "# Droping loan_id, dates & other categorical variables \n",
    "df1 = df.drop(['loan_id','source','financial_institution','origination_date','first_payment_date','loan_purpose'],axis=1)"
   ]
  },
  {
   "cell_type": "markdown",
   "metadata": {
    "collapsed": true
   },
   "source": [
    "### 3) Recursive Feature Engineering (Dimensionality Reduction)"
   ]
  },
  {
   "cell_type": "code",
   "execution_count": 57,
   "metadata": {
    "collapsed": false
   },
   "outputs": [],
   "source": [
    "from sklearn.feature_selection import RFE, RFECV\n",
    "from sklearn.metrics import f1_score\n",
    "from sklearn.model_selection import train_test_split\n",
    "from sklearn.linear_model import LogisticRegression\n",
    "from sklearn.neighbors import NearestNeighbors\n",
    "from sklearn.tree import DecisionTreeClassifier\n",
    "from sklearn.svm import SVC\n",
    "from sklearn.ensemble import RandomForestClassifier,AdaBoostClassifier, ExtraTreesClassifier,GradientBoostingClassifier"
   ]
  },
  {
   "cell_type": "code",
   "execution_count": 58,
   "metadata": {
    "collapsed": true
   },
   "outputs": [],
   "source": [
    "train = df1.iloc[:116058,:]\n",
    "xtrain, xtest, ytrain, ytest = train_test_split(train, df_train['m13'].values.ravel(), random_state=42, test_size=0.1)\n",
    "X = xtrain\n",
    "y = ytrain"
   ]
  },
  {
   "cell_type": "markdown",
   "metadata": {},
   "source": [
    "#### 3.1) RFE (LogisticRegression)"
   ]
  },
  {
   "cell_type": "code",
   "execution_count": 60,
   "metadata": {
    "collapsed": false,
    "scrolled": true
   },
   "outputs": [
    {
     "name": "stdout",
     "output_type": "stream",
     "text": [
      "Top features:  8\n",
      "1.0\n",
      "1.0\n",
      "['number_of_borrowers' 'm13' 'first_payment_delay' 'source_new' 'Z' 'A23'\n",
      " 'm12_new' 'last3_months'] \n",
      "\n",
      "Top features:  10\n",
      "1.0\n",
      "1.0\n",
      "['number_of_borrowers' 'm13' 'first_payment_delay' 'source_new' 'Z' 'A23'\n",
      " 'B12' 'C86' 'm12_new' 'last3_months'] \n",
      "\n",
      "Top features:  12\n",
      "1.0\n",
      "1.0\n",
      "['number_of_borrowers' 'm13' 'first_payment_delay' 'source_new' 'X' 'Z'\n",
      " 'A23' 'B12' 'C86' 'max_deliq' 'm12_new' 'last3_months'] \n",
      "\n",
      "Top features:  15\n",
      "1.0\n",
      "1.0\n",
      "['number_of_borrowers' 'm13' 'first_payment_delay' 'source_new'\n",
      " 'Browning-Hart' 'OTHER' 'X' 'Y' 'Z' 'A23' 'B12' 'C86' 'max_deliq'\n",
      " 'm12_new' 'last3_months'] \n",
      "\n",
      "Top features:  20\n",
      "1.0\n",
      "1.0\n",
      "['number_of_borrowers' 'm10' 'm13' 'first_payment_delay'\n",
      " 'financial_institution_new' 'source_new' 'Browning-Hart' 'OTHER'\n",
      " 'Suarez Inc' 'Swanson, Newton and Miller' 'Taylor, Hunt and Rodriguez'\n",
      " 'X' 'Y' 'Z' 'A23' 'B12' 'C86' 'max_deliq' 'm12_new' 'last3_months'] \n",
      "\n"
     ]
    }
   ],
   "source": [
    "n_feat = [8,10,12,15,20]\n",
    "for n in n_feat:\n",
    "    model = LogisticRegression(solver='warn')\n",
    "    rfe = RFE(model, n_features_to_select = n)\n",
    "    rfe = rfe.fit(X, y)\n",
    "    cols = X.columns.tolist()\n",
    "    sel_feat = pd.DataFrame({\"cols\": cols, \"support\": rfe.support_, \"rank\": rfe.ranking_})\n",
    "    print(\"Top features: \", n)\n",
    "    print(rfe.score(X, y))\n",
    "    print(f1_score(ytest, rfe.predict(xtest)))\n",
    "    print(sel_feat[sel_feat['rank'] == 1]['cols'].unique(), '\\n')"
   ]
  },
  {
   "cell_type": "markdown",
   "metadata": {},
   "source": [
    "#### 3.2) RFE (RandomForestClassifier)"
   ]
  },
  {
   "cell_type": "code",
   "execution_count": 31,
   "metadata": {
    "collapsed": false,
    "scrolled": true
   },
   "outputs": [
    {
     "name": "stdout",
     "output_type": "stream",
     "text": [
      "Top features:  6\n",
      "0.9991862290813005\n",
      "0.3829787234042553\n",
      "['unpaid_principal_bal' 'loan_to_value' 'debt_to_income_ratio'\n",
      " 'borrower_credit_score' 'm12_new' 'last3_months'] \n",
      "\n",
      "Top features:  7\n",
      "0.9992245241833569\n",
      "0.41304347826086957\n",
      "['interest_rate' 'unpaid_principal_bal' 'loan_to_value'\n",
      " 'debt_to_income_ratio' 'borrower_credit_score' 'max_deliq' 'm12_new'] \n",
      "\n",
      "Top features:  8\n",
      "0.9992149504078428\n",
      "0.36363636363636365\n",
      "['interest_rate' 'unpaid_principal_bal' 'loan_to_value'\n",
      " 'debt_to_income_ratio' 'borrower_credit_score' 'max_deliq' 'm12_new'\n",
      " 'last3_months'] \n",
      "\n",
      "Top features:  10\n",
      "0.9993298357140121\n",
      "0.4565217391304348\n",
      "['interest_rate' 'unpaid_principal_bal' 'loan_term' 'loan_to_value'\n",
      " 'debt_to_income_ratio' 'borrower_credit_score'\n",
      " 'financial_institution_new' 'max_deliq' 'm12_new' 'last3_months'] \n",
      "\n",
      "Top features:  12\n",
      "0.9992149504078428\n",
      "0.38636363636363635\n",
      "['interest_rate' 'unpaid_principal_bal' 'loan_term' 'loan_to_value'\n",
      " 'number_of_borrowers' 'debt_to_income_ratio' 'borrower_credit_score'\n",
      " 'insurance_percent' 'financial_institution_new' 'max_deliq' 'm12_new'\n",
      " 'last3_months'] \n",
      "\n",
      "Top features:  15\n",
      "0.9992053766323288\n",
      "0.36363636363636365\n",
      "['interest_rate' 'unpaid_principal_bal' 'loan_term' 'loan_to_value'\n",
      " 'number_of_borrowers' 'debt_to_income_ratio' 'borrower_credit_score'\n",
      " 'insurance_percent' 'insurance_type' 'first_payment_delay'\n",
      " 'financial_institution_new' 'source_new' 'max_deliq' 'm12_new'\n",
      " 'last3_months'] \n",
      "\n"
     ]
    }
   ],
   "source": [
    "n_feat = [8,10,12,15,20]\n",
    "for n in n_feat:\n",
    "    model = RandomForestClassifier()\n",
    "    rfe = RFE(model, n_features_to_select = n)\n",
    "    rfe = rfe.fit(X, y)\n",
    "    cols = X.columns.tolist()\n",
    "    sel_feat = pd.DataFrame({\"cols\": cols, \"support\": rfe.support_, \"rank\": rfe.ranking_})\n",
    "    print(\"Top features: \", n)\n",
    "    print(rfe.score(X, y))\n",
    "    print(f1_score(ytest, rfe.predict(xtest)))\n",
    "    print(sel_feat[sel_feat['rank'] == 1]['cols'].unique(), '\\n')"
   ]
  },
  {
   "cell_type": "markdown",
   "metadata": {},
   "source": [
    "#### 3.3) RFE (DecisionTreeClassifier)"
   ]
  },
  {
   "cell_type": "code",
   "execution_count": 32,
   "metadata": {
    "collapsed": false,
    "scrolled": true
   },
   "outputs": [
    {
     "name": "stdout",
     "output_type": "stream",
     "text": [
      "Top features:  6\n",
      "1.0\n",
      "0.27210884353741494\n",
      "['interest_rate' 'unpaid_principal_bal' 'loan_to_value'\n",
      " 'debt_to_income_ratio' 'borrower_credit_score' 'm12_new'] \n",
      "\n",
      "Top features:  7\n",
      "1.0\n",
      "0.3120567375886525\n",
      "['interest_rate' 'unpaid_principal_bal' 'loan_to_value'\n",
      " 'debt_to_income_ratio' 'borrower_credit_score' 'max_deliq' 'm12_new'] \n",
      "\n",
      "Top features:  8\n",
      "1.0\n",
      "0.3\n",
      "['interest_rate' 'unpaid_principal_bal' 'loan_term' 'loan_to_value'\n",
      " 'debt_to_income_ratio' 'borrower_credit_score' 'max_deliq' 'm12_new'] \n",
      "\n",
      "Top features:  10\n",
      "1.0\n",
      "0.32116788321167883\n",
      "['interest_rate' 'unpaid_principal_bal' 'loan_term' 'loan_to_value'\n",
      " 'number_of_borrowers' 'debt_to_income_ratio' 'borrower_credit_score'\n",
      " 'financial_institution_new' 'max_deliq' 'm12_new'] \n",
      "\n",
      "Top features:  12\n",
      "1.0\n",
      "0.3\n",
      "['interest_rate' 'unpaid_principal_bal' 'loan_term' 'loan_to_value'\n",
      " 'number_of_borrowers' 'debt_to_income_ratio' 'borrower_credit_score'\n",
      " 'insurance_percent' 'financial_institution_new' 'max_deliq' 'm12_new'\n",
      " 'last3_months'] \n",
      "\n",
      "Top features:  15\n",
      "1.0\n",
      "0.2857142857142857\n",
      "['interest_rate' 'unpaid_principal_bal' 'loan_term' 'loan_to_value'\n",
      " 'number_of_borrowers' 'debt_to_income_ratio' 'borrower_credit_score'\n",
      " 'insurance_percent' 'insurance_type' 'first_payment_delay'\n",
      " 'financial_institution_new' 'source_new' 'max_deliq' 'm12_new'\n",
      " 'last3_months'] \n",
      "\n"
     ]
    }
   ],
   "source": [
    "n_feat = [6,7,8,10,12,15]\n",
    "for n in n_feat:\n",
    "    model = DecisionTreeClassifier()\n",
    "    rfe = RFE(model, n_features_to_select = n)\n",
    "    rfe = rfe.fit(X, y)\n",
    "    cols = X.columns.tolist()\n",
    "    sel_feat = pd.DataFrame({\"cols\": cols, \"support\": rfe.support_, \"rank\": rfe.ranking_})\n",
    "    print(\"Top features: \", n)\n",
    "    print(rfe.score(X, y))\n",
    "    print(f1_score(ytest, rfe.predict(xtest)))\n",
    "    print(sel_feat[sel_feat['rank'] == 1]['cols'].unique(), '\\n')"
   ]
  },
  {
   "cell_type": "markdown",
   "metadata": {},
   "source": [
    "#### 3.4) RFE (AdaBoostClassifier)"
   ]
  },
  {
   "cell_type": "code",
   "execution_count": 184,
   "metadata": {
    "collapsed": false,
    "scrolled": true
   },
   "outputs": [
    {
     "name": "stdout",
     "output_type": "stream",
     "text": [
      "Top features:  8\n",
      "0.9958737027534178\n",
      "0.4\n",
      "['interest_rate' 'unpaid_principal_bal' 'loan_to_value'\n",
      " 'debt_to_income_ratio' 'borrower_credit_score' 'co-borrower_credit_score'\n",
      " 'max_deliq' 'm12'] \n",
      "\n",
      "Top features:  10\n",
      "0.9959598667330448\n",
      "0.4516129032258065\n",
      "['interest_rate' 'unpaid_principal_bal' 'loan_to_value'\n",
      " 'debt_to_income_ratio' 'borrower_credit_score' 'co-borrower_credit_score'\n",
      " 'max_deliq' 'm9' 'm11' 'm12'] \n",
      "\n",
      "Top features:  12\n",
      "0.9959598667330448\n",
      "0.4516129032258065\n",
      "['interest_rate' 'unpaid_principal_bal' 'loan_to_value'\n",
      " 'debt_to_income_ratio' 'borrower_credit_score' 'co-borrower_credit_score'\n",
      " 'max_deliq' 'm7' 'm8' 'm9' 'm11' 'm12'] \n",
      "\n",
      "Top features:  15\n",
      "0.9959598667330448\n",
      "0.4516129032258065\n",
      "['interest_rate' 'unpaid_principal_bal' 'loan_to_value'\n",
      " 'number_of_borrowers' 'debt_to_income_ratio' 'borrower_credit_score'\n",
      " 'insurance_percent' 'co-borrower_credit_score' 'source_new' 'max_deliq'\n",
      " 'm7' 'm8' 'm9' 'm11' 'm12'] \n",
      "\n",
      "Top features:  20\n",
      "0.9959598667330448\n",
      "0.4516129032258065\n",
      "['interest_rate' 'unpaid_principal_bal' 'loan_term' 'loan_to_value'\n",
      " 'number_of_borrowers' 'debt_to_income_ratio' 'borrower_credit_score'\n",
      " 'insurance_percent' 'co-borrower_credit_score' 'insurance_type'\n",
      " 'financial_institution_new' 'source_new' 'max_deliq' 'm7' 'm8' 'm9' 'm10'\n",
      " 'm11' 'm12' 'last3_months'] \n",
      "\n"
     ]
    }
   ],
   "source": [
    "n_feat = [8,10,12,15,20]\n",
    "for n in n_feat:\n",
    "    model = AdaBoostClassifier()\n",
    "    rfe = RFE(model, n_features_to_select = n)\n",
    "    rfe = rfe.fit(X, y)\n",
    "    cols = X.columns.tolist()\n",
    "    sel_feat = pd.DataFrame({\"cols\": cols, \"support\": rfe.support_, \"rank\": rfe.ranking_})\n",
    "    print(\"Top features: \", n)\n",
    "    print(rfe.score(X, y))\n",
    "    print(f1_score(ytest, rfe.predict(xtest)))\n",
    "    print(sel_feat[sel_feat['rank'] == 1]['cols'].unique(), '\\n')"
   ]
  },
  {
   "cell_type": "markdown",
   "metadata": {
    "collapsed": true
   },
   "source": [
    "* After running above different models with RFE techniques (in various combinations): following features are explaining delinquency in m13 month mostly;\n",
    "    * 'interest_rate', 'unpaid_principal_bal', 'loan_to_value','number_of_borrowers', 'debt_to_income_ratio', 'borrower_credit_score', 'source_new','max_deliq' ,'m11', 'm12']\n",
    "    * Will try to add other columns as well if they are of any help"
   ]
  },
  {
   "cell_type": "code",
   "execution_count": null,
   "metadata": {
    "collapsed": true
   },
   "outputs": [],
   "source": []
  },
  {
   "cell_type": "code",
   "execution_count": null,
   "metadata": {
    "collapsed": true
   },
   "outputs": [],
   "source": []
  },
  {
   "cell_type": "markdown",
   "metadata": {},
   "source": [
    "### 4.) Simple Model\n",
    "* Try different models followed by confusion matrix, ROC curve and other accuracy measures on best model"
   ]
  },
  {
   "cell_type": "code",
   "execution_count": 61,
   "metadata": {
    "collapsed": true
   },
   "outputs": [],
   "source": [
    "# Important columns based on Recursive Feature Engineering\n",
    "# cols = ['interest_rate', 'unpaid_principal_bal', 'loan_to_value', 'number_of_borrowers', 'debt_to_income_ratio', 'borrower_credit_score',\n",
    "#         'first_payment_delay', 'max_deliq', 'm12_new', 'last3_months']                        # Top 10 from all above 4 models\n",
    "\n",
    "# cols = ['interest_rate', 'number_of_borrowers', 'debt_to_income_ratio', 'borrower_credit_score','insurance_type',\n",
    "#         'first_payment_delay','source_new', 'max_deliq', 'm12_new', 'last3_months']           # Top 10 from LogisticRegression\n",
    "\n",
    "# cols = ['interest_rate', 'unpaid_principal_bal', 'loan_to_value', 'number_of_borrowers', 'debt_to_income_ratio', 'borrower_credit_score',\n",
    "#         'source_new', 'max_deliq', 'm12_new', 'last3_months']                                 # Top 10 from AdaBoostClassifier\n",
    "\n",
    "cols=['interest_rate', 'unpaid_principal_bal', 'loan_to_value','number_of_borrowers', 'debt_to_income_ratio', 'borrower_credit_score',\n",
    "      'source_new','max_deliq' ,'m11', 'm12']                                                   # Final 10"
   ]
  },
  {
   "cell_type": "code",
   "execution_count": 62,
   "metadata": {
    "collapsed": false
   },
   "outputs": [],
   "source": [
    "# train = df1.iloc[:116058,:]\n",
    "# test = df1.iloc[116058:,:]\n",
    "train = df1.iloc[:116058,:][cols]\n",
    "test = df1.iloc[116058:,:][cols]"
   ]
  },
  {
   "cell_type": "code",
   "execution_count": 63,
   "metadata": {
    "collapsed": true
   },
   "outputs": [],
   "source": [
    "def simple_model(alg):\n",
    "\n",
    "    # splitting data into training and validation set\n",
    "    xtrain, xtest, ytrain, ytest = train_test_split(train, df_train['m13'].values.ravel(), random_state=42, test_size=0.2)\n",
    "    model = alg\n",
    "    model.fit(xtrain, ytrain) # training the model\n",
    "#     prediction = model.predict_proba(xtest) # predicting on the validation set\n",
    "#     prediction_int = prediction[:,1] >= 0.3 # if prediction is greater than or equal to 0.3 than 1 else 0\n",
    "#     prediction_int = prediction_int.astype(np.int)\n",
    "\n",
    "    print(\"f1_score:\",f1_score(ytest, model.predict(xtest))) # calculating f1 score\n",
    "    print(\"Accuracy on train data:\",model.score(xtrain,ytrain))\n",
    "    print(\"Accuracy on test data:\",model.score(xtest,ytest))"
   ]
  },
  {
   "cell_type": "code",
   "execution_count": 64,
   "metadata": {
    "collapsed": false
   },
   "outputs": [
    {
     "name": "stdout",
     "output_type": "stream",
     "text": [
      "LR\n",
      "f1_score: 0.0\n",
      "Accuracy on train data: 0.9942485405941021\n",
      "Accuracy on test data: 0.9940978804066862\n",
      "DTC\n",
      "f1_score: 0.3542435424354244\n",
      "Accuracy on train data: 1.0\n",
      "Accuracy on test data: 0.9924607961399277\n",
      "RFC\n",
      "f1_score: 0.45555555555555555\n",
      "Accuracy on train data: 0.9991383581414385\n",
      "Accuracy on test data: 0.9957780458383595\n",
      "ETC\n",
      "f1_score: 0.419889502762431\n",
      "Accuracy on train data: 1.0\n",
      "Accuracy on test data: 0.9954764776839565\n",
      "ABC\n",
      "f1_score: 0.4598930481283423\n",
      "Accuracy on train data: 0.9958533485556729\n",
      "Accuracy on test data: 0.9956488023436154\n",
      "GBC\n",
      "f1_score: 0.23076923076923078\n",
      "Accuracy on train data: 0.9951532645455916\n",
      "Accuracy on test data: 0.9948302602102361\n"
     ]
    }
   ],
   "source": [
    "algs = [LogisticRegression(),DecisionTreeClassifier(),RandomForestClassifier(),ExtraTreesClassifier(),AdaBoostClassifier(),GradientBoostingClassifier()]\n",
    "algs_lst = ['LR','DTC','RFC','ETC','ABC','GBC']\n",
    "for alg,l in zip(algs,algs_lst):\n",
    "    print(l)\n",
    "    simple_model(alg=alg)"
   ]
  },
  {
   "cell_type": "markdown",
   "metadata": {},
   "source": [
    "* AdaBoostClassifier is giving highest f1 score (0.46): Need to fine tune it's parameters in order to get better results\n",
    "* All model are giving 100% accuracy on both train & test data; need to look at ROC curve & decide threshold value"
   ]
  },
  {
   "cell_type": "code",
   "execution_count": 66,
   "metadata": {
    "collapsed": false,
    "scrolled": true
   },
   "outputs": [
    {
     "name": "stdout",
     "output_type": "stream",
     "text": [
      "[[23068    16]\n",
      " [   85    43]]\n"
     ]
    }
   ],
   "source": [
    "# Confusion Matrix (on AdaBoostClassifier)\n",
    "from sklearn.metrics import confusion_matrix\n",
    "xtrain, xtest, ytrain, ytest = train_test_split(train, df_train['m13'].values.ravel(), random_state=42, test_size=0.2)\n",
    "model = AdaBoostClassifier()\n",
    "model.fit(xtrain, ytrain)\n",
    "ypred = model.predict(xtest)\n",
    "confusion_matrix = confusion_matrix(ytest,ypred)\n",
    "print(confusion_matrix)"
   ]
  },
  {
   "cell_type": "markdown",
   "metadata": {},
   "source": [
    "* Out of 128 delinquency cases, only 44 of them predicted as True positive, remaining (84) are predicted as False Positive"
   ]
  },
  {
   "cell_type": "code",
   "execution_count": 67,
   "metadata": {
    "collapsed": false
   },
   "outputs": [
    {
     "name": "stdout",
     "output_type": "stream",
     "text": [
      "              precision    recall  f1-score   support\n",
      "\n",
      "           0       1.00      1.00      1.00     23084\n",
      "           1       0.73      0.34      0.46       128\n",
      "\n",
      "    accuracy                           1.00     23212\n",
      "   macro avg       0.86      0.67      0.73     23212\n",
      "weighted avg       0.99      1.00      0.99     23212\n",
      "\n"
     ]
    }
   ],
   "source": [
    "from sklearn.metrics import classification_report\n",
    "print(classification_report(ytest,ypred))"
   ]
  },
  {
   "cell_type": "markdown",
   "metadata": {},
   "source": [
    "* For non-delinquent cases(0) precision, recall, f1-score are too good, but problem comes in case of delinquent cases(1). That's because data is highly imbalance towards non-delinquent cases(0)"
   ]
  },
  {
   "cell_type": "code",
   "execution_count": 68,
   "metadata": {
    "collapsed": false
   },
   "outputs": [
    {
     "data": {
      "image/png": "[encoded data removed]",
      "text/plain": [
       "<matplotlib.figure.Figure at 0x1aacb3c06a0>"
      ]
     },
     "metadata": {},
     "output_type": "display_data"
    }
   ],
   "source": [
    "from sklearn.metrics import roc_auc_score, roc_curve\n",
    "\n",
    "auc = roc_auc_score(ytest, ypred)\n",
    "fpr, tpr, thresholds = roc_curve(ytest, ypred)\n",
    "plt.figure()\n",
    "plt.plot(fpr, tpr, label='Adaptive Boosting Classifier (area = %0.2f)' % auc)\n",
    "plt.plot([0, 1], [0, 1],'r--')\n",
    "plt.xlim([0.0, 1.0])\n",
    "plt.ylim([0.0, 1.05])\n",
    "plt.xlabel('False Positive Rate'), plt.ylabel('True Positive Rate'), plt.title('Receiver operating characteristic')\n",
    "plt.legend(loc=\"lower right\")\n",
    "# plt.savefig('Log_ROC')\n",
    "plt.show()"
   ]
  },
  {
   "cell_type": "markdown",
   "metadata": {},
   "source": [
    "* AUC is 67%, but ROC curve is straight line, so it's difficult to choose threshold value from roc_curve"
   ]
  },
  {
   "cell_type": "code",
   "execution_count": 69,
   "metadata": {
    "collapsed": false
   },
   "outputs": [
    {
     "name": "stdout",
     "output_type": "stream",
     "text": [
      "10-fold cross validation average accuracy on train data: 0.752\n",
      "10-fold cross validation average accuracy on test data: 0.725\n",
      "results_train: [0.76855367 0.76953333 0.69056441 0.76296987 0.77610773 0.76671369\n",
      " 0.74188406 0.76296977 0.73783145 0.74569868]\n",
      "results_test: [0.68641962 0.7491357  0.77164502 0.56098681 0.72059709 0.74870074\n",
      " 0.80715223 0.74913532 0.73159873 0.72168262]\n"
     ]
    }
   ],
   "source": [
    "# Cross Validation\n",
    "from sklearn.model_selection import cross_val_score, KFold\n",
    "\n",
    "xtrain, xtest, ytrain, ytest = train_test_split(train, df_train['m13'].values.ravel(), random_state=42, test_size=0.2)\n",
    "kfold = KFold(n_splits = 10, random_state = 7)\n",
    "modelCV = AdaBoostClassifier()\n",
    "scoring = 'f1_macro'\n",
    "results_train = cross_val_score(modelCV, xtrain, ytrain, scoring = scoring, cv = kfold)\n",
    "results_test = cross_val_score(modelCV, xtest, ytest, scoring = scoring, cv = kfold)\n",
    "print(\"10-fold cross validation average accuracy on train data: %.3f\" % (results_train.mean()))\n",
    "print(\"10-fold cross validation average accuracy on test data: %.3f\" % (results_test.mean()))\n",
    "print(\"results_train:\",results_train)\n",
    "print(\"results_test:\",results_test)"
   ]
  },
  {
   "cell_type": "markdown",
   "metadata": {},
   "source": [
    "* Based on 10-fold cross validation with AdaBoostClassifer; the average accuracy remains very close to the simple AdaBoostClassifer model accuracy; hence we can conclude that our model generalizes well. However it is still overfitting our train data, so will perform very bad on unseen data\n",
    "* Let's see how it will perform after resampling this imbalance data"
   ]
  },
  {
   "cell_type": "markdown",
   "metadata": {},
   "source": [
    "### 5.) Solving data imbalanced problem\n",
    "* We are interested in predicting deliquent cases (generally low number of records in imbalanced data)\n",
    "* Our objective: High recall on 1 & High precision on L\n",
    "* 3 ways solve it;\n",
    "    * Modify Loss function\n",
    "    * Modify the dataset (resampling)\n",
    "    * Ensemble methods"
   ]
  },
  {
   "cell_type": "code",
   "execution_count": 72,
   "metadata": {
    "collapsed": false
   },
   "outputs": [
    {
     "data": {
      "text/plain": [
       "(1    636\n",
       " Name: m13, dtype: int64, 0    115422\n",
       " Name: m13, dtype: int64, 0    34626\n",
       " Name: m13, dtype: int64)"
      ]
     },
     "execution_count": 72,
     "metadata": {},
     "output_type": "execute_result"
    }
   ],
   "source": [
    "# Randomly selecting 30% of non-deliquency data\n",
    "from sklearn.utils import resample\n",
    "\n",
    "cols = ['interest_rate', 'unpaid_principal_bal', 'loan_to_value','number_of_borrowers', 'debt_to_income_ratio', 'borrower_credit_score',\n",
    "        'source_new','max_deliq' ,'m11', 'm12','m13']\n",
    "train = df.iloc[:116058,:][cols]\n",
    "not_deliq = train[train['m13']==0]\n",
    "deliq = train[train['m13']==1]\n",
    "\n",
    "not_deliq_downsampled = resample(not_deliq, replace = False, n_samples = int(not_deliq.shape[0]*0.3), random_state = 27)\n",
    "deliq['m13'].value_counts(), not_deliq['m13'].value_counts(), not_deliq_downsampled['m13'].value_counts()"
   ]
  },
  {
   "cell_type": "code",
   "execution_count": 73,
   "metadata": {
    "collapsed": false
   },
   "outputs": [
    {
     "name": "stdout",
     "output_type": "stream",
     "text": [
      "(35262, 11) Index(['interest_rate', 'unpaid_principal_bal', 'loan_to_value',\n",
      "       'number_of_borrowers', 'debt_to_income_ratio', 'borrower_credit_score',\n",
      "       'source_new', 'max_deliq', 'm11', 'm12', 'm13'],\n",
      "      dtype='object')\n"
     ]
    },
    {
     "data": {
      "text/plain": [
       "0    34626\n",
       "1      636\n",
       "Name: m13, dtype: int64"
      ]
     },
     "execution_count": 73,
     "metadata": {},
     "output_type": "execute_result"
    }
   ],
   "source": [
    "df2 = deliq.append(not_deliq_downsampled, ignore_index=True)\n",
    "df2['m13'] = df2['m13'].astype(int)\n",
    "print(df2.shape, df2.columns)\n",
    "df2['m13'].value_counts()"
   ]
  },
  {
   "cell_type": "code",
   "execution_count": 74,
   "metadata": {
    "collapsed": false
   },
   "outputs": [
    {
     "name": "stdout",
     "output_type": "stream",
     "text": [
      "(31735, 10) (3527, 10) (31735,) (3527,)\n",
      "f1_score: 0.6105263157894737\n",
      "Accuracy on train data: 0.9886875689302033\n",
      "Accuracy on test data: 0.989509498157074\n"
     ]
    },
    {
     "data": {
      "text/html": [
       "<div>\n",
       "<style scoped>\n",
       "    .dataframe tbody tr th:only-of-type {\n",
       "        vertical-align: middle;\n",
       "    }\n",
       "\n",
       "    .dataframe tbody tr th {\n",
       "        vertical-align: top;\n",
       "    }\n",
       "\n",
       "    .dataframe thead th {\n",
       "        text-align: right;\n",
       "    }\n",
       "</style>\n",
       "<table border=\"1\" class=\"dataframe\">\n",
       "  <thead>\n",
       "    <tr style=\"text-align: right;\">\n",
       "      <th>col_0</th>\n",
       "      <th>0</th>\n",
       "      <th>1</th>\n",
       "    </tr>\n",
       "    <tr>\n",
       "      <th>row_0</th>\n",
       "      <th></th>\n",
       "      <th></th>\n",
       "    </tr>\n",
       "  </thead>\n",
       "  <tbody>\n",
       "    <tr>\n",
       "      <th>0</th>\n",
       "      <td>3426</td>\n",
       "      <td>22</td>\n",
       "    </tr>\n",
       "    <tr>\n",
       "      <th>1</th>\n",
       "      <td>44</td>\n",
       "      <td>35</td>\n",
       "    </tr>\n",
       "  </tbody>\n",
       "</table>\n",
       "</div>"
      ],
      "text/plain": [
       "col_0     0   1\n",
       "row_0          \n",
       "0      3426  22\n",
       "1        44  35"
      ]
     },
     "execution_count": 74,
     "metadata": {},
     "output_type": "execute_result"
    }
   ],
   "source": [
    "train = df2.drop('m13',axis=1)\n",
    "\n",
    "xtrain, xtest, ytrain, ytest = train_test_split(train, df2['m13'].values.ravel(), random_state=42, test_size=0.1)\n",
    "print(xtrain.shape, xtest.shape, ytrain.shape, ytest.shape)\n",
    "\n",
    "model = AdaBoostClassifier(learning_rate= 0.68, n_estimators= 11)\n",
    "model.fit(xtrain, ytrain)\n",
    "# ypred = model.predict(xtest)\n",
    "prediction = model.predict_proba(xtest) # predicting on the validation set\n",
    "prediction_int = prediction[:,1] >= 0.41 # if prediction is greater than or equal to 0.3 than 1 else 0\n",
    "ypred = prediction_int.astype(np.int)\n",
    "\n",
    "print(\"f1_score:\",f1_score(ytest, model.predict(xtest))) # calculating f1 score\n",
    "print(\"Accuracy on train data:\",model.score(xtrain,ytrain))\n",
    "print(\"Accuracy on test data:\",model.score(xtest,ytest))\n",
    "pd.crosstab(ypred,ytest)"
   ]
  },
  {
   "cell_type": "code",
   "execution_count": 75,
   "metadata": {
    "collapsed": false,
    "scrolled": true
   },
   "outputs": [
    {
     "name": "stdout",
     "output_type": "stream",
     "text": [
      "              precision    recall  f1-score   support\n",
      "\n",
      "           0       0.99      0.99      0.99      3470\n",
      "           1       0.44      0.61      0.51        57\n",
      "\n",
      "    accuracy                           0.98      3527\n",
      "   macro avg       0.72      0.80      0.75      3527\n",
      "weighted avg       0.98      0.98      0.98      3527\n",
      "\n"
     ]
    }
   ],
   "source": [
    "print(classification_report(ytest,ypred))"
   ]
  },
  {
   "cell_type": "markdown",
   "metadata": {},
   "source": [
    "* Undersampling (majority class) increased the f1-score from 0.46 to 0.61 & classification report also looks good. However it is  perform very bad on unseen data (looks like undersampling is suffering from overfitting problem here)\n",
    "* Let's try SMOTE technique"
   ]
  },
  {
   "cell_type": "code",
   "execution_count": 77,
   "metadata": {
    "collapsed": false
   },
   "outputs": [
    {
     "data": {
      "text/plain": [
       "((207766, 10), (207766,))"
      ]
     },
     "execution_count": 77,
     "metadata": {},
     "output_type": "execute_result"
    }
   ],
   "source": [
    "from imblearn.over_sampling import SMOTE\n",
    "\n",
    "cols=['interest_rate', 'unpaid_principal_bal', 'loan_to_value','number_of_borrowers', 'debt_to_income_ratio', 'borrower_credit_score',\n",
    "      'source_new','max_deliq' ,'m11', 'm12']                                                   # Final 10\n",
    "train = df1.iloc[:116058,:][cols]\n",
    "test = df1.iloc[116058:,:][cols]\n",
    "\n",
    "# setting up testing and training sets\n",
    "xtrain, xtest, ytrain, ytest = train_test_split(train, df_train['m13'].values.ravel(), random_state=42, test_size=0.1)\n",
    "\n",
    "sm = SMOTE(random_state=27, ratio=1.0)\n",
    "xtrain, ytrain = sm.fit_sample(xtrain, ytrain)\n",
    "xtrain.shape, ytrain.shape"
   ]
  },
  {
   "cell_type": "code",
   "execution_count": 78,
   "metadata": {
    "collapsed": false
   },
   "outputs": [
    {
     "name": "stdout",
     "output_type": "stream",
     "text": [
      "f1_score: 0.3950617283950617\n",
      "Accuracy on train data: 0.9689025153297459\n",
      "Accuracy on test data: 0.991556091676719\n"
     ]
    }
   ],
   "source": [
    "model = AdaBoostClassifier()\n",
    "model.fit(xtrain, ytrain) # training the model\n",
    "\n",
    "ypred = model.predict(xtest)\n",
    "\n",
    "print(\"f1_score:\",f1_score(ytest, model.predict(xtest))) # calculating f1 score\n",
    "print(\"Accuracy on train data:\",model.score(xtrain,ytrain))\n",
    "print(\"Accuracy on test data:\",model.score(xtest,ytest))"
   ]
  },
  {
   "cell_type": "code",
   "execution_count": 79,
   "metadata": {
    "collapsed": false
   },
   "outputs": [
    {
     "data": {
      "text/html": [
       "<div>\n",
       "<style scoped>\n",
       "    .dataframe tbody tr th:only-of-type {\n",
       "        vertical-align: middle;\n",
       "    }\n",
       "\n",
       "    .dataframe tbody tr th {\n",
       "        vertical-align: top;\n",
       "    }\n",
       "\n",
       "    .dataframe thead th {\n",
       "        text-align: right;\n",
       "    }\n",
       "</style>\n",
       "<table border=\"1\" class=\"dataframe\">\n",
       "  <thead>\n",
       "    <tr style=\"text-align: right;\">\n",
       "      <th>col_0</th>\n",
       "      <th>0</th>\n",
       "      <th>1</th>\n",
       "    </tr>\n",
       "    <tr>\n",
       "      <th>row_0</th>\n",
       "      <th></th>\n",
       "      <th></th>\n",
       "    </tr>\n",
       "  </thead>\n",
       "  <tbody>\n",
       "    <tr>\n",
       "      <th>0</th>\n",
       "      <td>11476</td>\n",
       "      <td>35</td>\n",
       "    </tr>\n",
       "    <tr>\n",
       "      <th>1</th>\n",
       "      <td>63</td>\n",
       "      <td>32</td>\n",
       "    </tr>\n",
       "  </tbody>\n",
       "</table>\n",
       "</div>"
      ],
      "text/plain": [
       "col_0      0   1\n",
       "row_0           \n",
       "0      11476  35\n",
       "1         63  32"
      ]
     },
     "execution_count": 79,
     "metadata": {},
     "output_type": "execute_result"
    }
   ],
   "source": [
    "# confusion_matrix = confusion_matrix(ytest,ypred)\n",
    "# print(confusion_matrix)\n",
    "pd.crosstab(ypred,ytest)"
   ]
  },
  {
   "cell_type": "code",
   "execution_count": 80,
   "metadata": {
    "collapsed": false
   },
   "outputs": [
    {
     "name": "stdout",
     "output_type": "stream",
     "text": [
      "              precision    recall  f1-score   support\n",
      "\n",
      "           0       1.00      0.99      1.00     11539\n",
      "           1       0.34      0.48      0.40        67\n",
      "\n",
      "    accuracy                           0.99     11606\n",
      "   macro avg       0.67      0.74      0.70     11606\n",
      "weighted avg       0.99      0.99      0.99     11606\n",
      "\n"
     ]
    }
   ],
   "source": [
    "print(classification_report(ytest,ypred))"
   ]
  },
  {
   "cell_type": "markdown",
   "metadata": {},
   "source": [
    "* SMOTE: recall for deliq increases, but f1 scores goes down\n",
    "* So I'll stick to all data & trust on Ensemble methods (AdaboostClassifier) to deal with imbalanced data (which is one of the objective)\n",
    "* Now let's fine-tune AdaboostClassifier's parameters in order to get better results & compare with another powerful classifier Logistic Regression"
   ]
  },
  {
   "cell_type": "code",
   "execution_count": null,
   "metadata": {
    "collapsed": true
   },
   "outputs": [],
   "source": []
  },
  {
   "cell_type": "code",
   "execution_count": null,
   "metadata": {
    "collapsed": true
   },
   "outputs": [],
   "source": []
  },
  {
   "cell_type": "markdown",
   "metadata": {},
   "source": [
    "### 6) Hypertuning Parameters"
   ]
  },
  {
   "cell_type": "markdown",
   "metadata": {},
   "source": [
    "#### 6.1) Hypertuning LogisticRegression"
   ]
  },
  {
   "cell_type": "code",
   "execution_count": 81,
   "metadata": {
    "collapsed": false
   },
   "outputs": [
    {
     "name": "stdout",
     "output_type": "stream",
     "text": [
      "(92846, 10)\n"
     ]
    },
    {
     "data": {
      "text/plain": [
       "GridSearchCV(cv=None, error_score='raise-deprecating',\n",
       "             estimator=LogisticRegression(C=1.0, class_weight=None, dual=False,\n",
       "                                          fit_intercept=True,\n",
       "                                          intercept_scaling=1, l1_ratio=None,\n",
       "                                          max_iter=100, multi_class='warn',\n",
       "                                          n_jobs=None, penalty='l2',\n",
       "                                          random_state=None, solver='warn',\n",
       "                                          tol=0.0001, verbose=0,\n",
       "                                          warm_start=False),\n",
       "             iid='warn', n_jobs=8,\n",
       "             param_grid={'C': [0.001, 0.01, 0.1, 1, 5, 10],\n",
       "                         'class_weight': ['balanced'],\n",
       "                         'penalty': ['l1', 'l2']},\n",
       "             pre_dispatch='2*n_jobs', refit=True, return_train_score=False,\n",
       "             scoring='f1_macro', verbose=0)"
      ]
     },
     "execution_count": 81,
     "metadata": {},
     "output_type": "execute_result"
    }
   ],
   "source": [
    "cols=['interest_rate', 'unpaid_principal_bal', 'loan_to_value','number_of_borrowers', 'debt_to_income_ratio', 'borrower_credit_score',\n",
    "      'source_new','max_deliq' ,'m11', 'm12']                                                   # Final 10\n",
    "train = df.iloc[:116058,:][cols]\n",
    "\n",
    "# using gridsearch & cross validation, hypertune best parameters of Logistic Regression\n",
    "from sklearn.model_selection import GridSearchCV, RandomizedSearchCV\n",
    "xtrain, xtest, ytrain, ytest = train_test_split(train, df_train['m13'].values.ravel(), random_state=42, test_size=0.2)\n",
    "print(xtrain.shape)\n",
    "model = LogisticRegression()\n",
    "grid = {'C':[0.001,0.01,0.1,1,5,10],\n",
    "       'penalty':['l1','l2'],\n",
    "        'class_weight':['balanced']}\n",
    "# cv = KFold(n_splits = 10, shuffle=True, random_state = 7)\n",
    "clf = GridSearchCV(model, grid, n_jobs=8, cv=None,scoring='f1_macro')\n",
    "clf.fit(xtrain, ytrain)"
   ]
  },
  {
   "cell_type": "code",
   "execution_count": 82,
   "metadata": {
    "collapsed": false,
    "scrolled": true
   },
   "outputs": [
    {
     "data": {
      "text/plain": [
       "(0.5496328137546903, {'C': 0.001, 'class_weight': 'balanced', 'penalty': 'l1'})"
      ]
     },
     "execution_count": 82,
     "metadata": {},
     "output_type": "execute_result"
    }
   ],
   "source": [
    "clf.best_score_, clf.best_params_"
   ]
  },
  {
   "cell_type": "code",
   "execution_count": 83,
   "metadata": {
    "collapsed": false
   },
   "outputs": [
    {
     "name": "stdout",
     "output_type": "stream",
     "text": [
      "f1_score: 0.17336152219873152\n",
      "Accuracy on train data: 0.9464058763974754\n",
      "Accuracy on test data: 0.9463208685162847\n"
     ]
    }
   ],
   "source": [
    "model = LogisticRegression(C= 0.001, class_weight= 'balanced', penalty= 'l1')\n",
    "model.fit(xtrain, ytrain)\n",
    "# ypred = model.predict(xtest)\n",
    "prediction = model.predict_proba(xtest) # predicting on the validation set\n",
    "prediction_int = prediction[:,1] >= 0.56 # if prediction is greater than or equal to 0.3 than 1 else 0\n",
    "ypred = prediction_int.astype(np.int)\n",
    "\n",
    "print(\"f1_score:\",f1_score(ytest, ypred)) # calculating f1 score\n",
    "print(\"Accuracy on train data:\",model.score(xtrain,ytrain))\n",
    "print(\"Accuracy on test data:\",model.score(xtest,ytest))"
   ]
  },
  {
   "cell_type": "code",
   "execution_count": 84,
   "metadata": {
    "collapsed": false,
    "scrolled": true
   },
   "outputs": [
    {
     "data": {
      "text/html": [
       "<div>\n",
       "<style scoped>\n",
       "    .dataframe tbody tr th:only-of-type {\n",
       "        vertical-align: middle;\n",
       "    }\n",
       "\n",
       "    .dataframe tbody tr th {\n",
       "        vertical-align: top;\n",
       "    }\n",
       "\n",
       "    .dataframe thead th {\n",
       "        text-align: right;\n",
       "    }\n",
       "</style>\n",
       "<table border=\"1\" class=\"dataframe\">\n",
       "  <thead>\n",
       "    <tr style=\"text-align: right;\">\n",
       "      <th>col_0</th>\n",
       "      <th>0</th>\n",
       "      <th>1</th>\n",
       "    </tr>\n",
       "    <tr>\n",
       "      <th>row_0</th>\n",
       "      <th></th>\n",
       "      <th></th>\n",
       "    </tr>\n",
       "  </thead>\n",
       "  <tbody>\n",
       "    <tr>\n",
       "      <th>0</th>\n",
       "      <td>22348</td>\n",
       "      <td>46</td>\n",
       "    </tr>\n",
       "    <tr>\n",
       "      <th>1</th>\n",
       "      <td>736</td>\n",
       "      <td>82</td>\n",
       "    </tr>\n",
       "  </tbody>\n",
       "</table>\n",
       "</div>"
      ],
      "text/plain": [
       "col_0      0   1\n",
       "row_0           \n",
       "0      22348  46\n",
       "1        736  82"
      ]
     },
     "execution_count": 84,
     "metadata": {},
     "output_type": "execute_result"
    }
   ],
   "source": [
    "pd.crosstab(ypred,ytest)"
   ]
  },
  {
   "cell_type": "code",
   "execution_count": 85,
   "metadata": {
    "collapsed": false,
    "scrolled": true
   },
   "outputs": [
    {
     "name": "stdout",
     "output_type": "stream",
     "text": [
      "              precision    recall  f1-score   support\n",
      "\n",
      "           0       1.00      0.97      0.98     23084\n",
      "           1       0.10      0.64      0.17       128\n",
      "\n",
      "    accuracy                           0.97     23212\n",
      "   macro avg       0.55      0.80      0.58     23212\n",
      "weighted avg       0.99      0.97      0.98     23212\n",
      "\n"
     ]
    }
   ],
   "source": [
    "print(classification_report(ytest,ypred))"
   ]
  },
  {
   "cell_type": "markdown",
   "metadata": {
    "collapsed": true
   },
   "source": [
    "* Logistic Regresssion: it is doing good after doing hyper-parameter tuning. As it's f1-score increase from 0.0 to 0.17\n",
    "* So hoping Adaboostclassifier to do even more good. Let's see below, how it goes;"
   ]
  },
  {
   "cell_type": "code",
   "execution_count": null,
   "metadata": {
    "collapsed": true
   },
   "outputs": [],
   "source": []
  },
  {
   "cell_type": "markdown",
   "metadata": {},
   "source": [
    "#### 6.2) Hypertuning AdaBoostClassifier"
   ]
  },
  {
   "cell_type": "code",
   "execution_count": 86,
   "metadata": {
    "collapsed": false,
    "scrolled": true
   },
   "outputs": [
    {
     "data": {
      "text/plain": [
       "GridSearchCV(cv=None, error_score='raise-deprecating',\n",
       "             estimator=AdaBoostClassifier(algorithm='SAMME.R',\n",
       "                                          base_estimator=None,\n",
       "                                          learning_rate=1.0, n_estimators=50,\n",
       "                                          random_state=None),\n",
       "             iid='warn', n_jobs=8,\n",
       "             param_grid={'learning_rate': [0.4, 0.5, 0.6, 0.7],\n",
       "                         'n_estimators': [10, 20, 30, 50, 100]},\n",
       "             pre_dispatch='2*n_jobs', refit=True, return_train_score=False,\n",
       "             scoring='f1_macro', verbose=0)"
      ]
     },
     "execution_count": 86,
     "metadata": {},
     "output_type": "execute_result"
    }
   ],
   "source": [
    "cols=['interest_rate', 'unpaid_principal_bal', 'loan_to_value','number_of_borrowers', 'debt_to_income_ratio', 'borrower_credit_score',\n",
    "      'source_new','max_deliq' ,'m11', 'm12']                                                   # Final 10\n",
    "train = df.iloc[:116058,:][cols]\n",
    "\n",
    "# using gridsearch & cross validation, hypertune best parameters of Logistic Regression\n",
    "from sklearn.model_selection import GridSearchCV, RandomizedSearchCV\n",
    "xtrain, xtest, ytrain, ytest = train_test_split(train, df_train['m13'].values.ravel(), random_state=42, test_size=0.2)\n",
    "model = AdaBoostClassifier()\n",
    "grid = {'n_estimators': [10,20,30,50,100],\n",
    "        'learning_rate':[0.4,0.5,0.6,0.7]}\n",
    "#         'learning_rate' : [0.5,0.52,0.54,0.56,0.58,0.6,0.62,0.64,0.66,0.68,0.7]}\n",
    "# cv = KFold(n_splits = 10, shuffle=True, random_state = 7)\n",
    "clf = GridSearchCV(model, grid, n_jobs=8, cv=None,scoring='f1_macro')\n",
    "clf.fit(xtrain, ytrain)"
   ]
  },
  {
   "cell_type": "code",
   "execution_count": 87,
   "metadata": {
    "collapsed": false
   },
   "outputs": [
    {
     "data": {
      "text/plain": [
       "(0.7667595853363968, {'learning_rate': 0.7, 'n_estimators': 30})"
      ]
     },
     "execution_count": 87,
     "metadata": {},
     "output_type": "execute_result"
    }
   ],
   "source": [
    "clf.best_score_, clf.best_params_"
   ]
  },
  {
   "cell_type": "code",
   "execution_count": 88,
   "metadata": {
    "collapsed": false
   },
   "outputs": [
    {
     "name": "stdout",
     "output_type": "stream",
     "text": [
      "0.7046596533809035 0.019302109884666876 {'learning_rate': 0.4, 'n_estimators': 10}\n",
      "0.732127439103918 0.006102397120974985 {'learning_rate': 0.4, 'n_estimators': 20}\n",
      "0.7470157480138421 0.008811037812538522 {'learning_rate': 0.4, 'n_estimators': 30}\n",
      "0.7466703815327671 0.006004488091070847 {'learning_rate': 0.4, 'n_estimators': 50}\n",
      "0.7512639210491306 0.0024817459033097213 {'learning_rate': 0.4, 'n_estimators': 100}\n",
      "0.7561236199907182 0.003020911646677634 {'learning_rate': 0.5, 'n_estimators': 10}\n",
      "0.7640309114868771 0.009793961356078773 {'learning_rate': 0.5, 'n_estimators': 20}\n",
      "0.7616152886007566 0.0079711130458199 {'learning_rate': 0.5, 'n_estimators': 30}\n",
      "0.7650077941094516 0.0063161000636731066 {'learning_rate': 0.5, 'n_estimators': 50}\n",
      "0.7627600900004547 0.005190850119185906 {'learning_rate': 0.5, 'n_estimators': 100}\n",
      "0.761299474172225 0.00922409462538067 {'learning_rate': 0.6, 'n_estimators': 10}\n",
      "0.7651320093318511 0.007552974348893952 {'learning_rate': 0.6, 'n_estimators': 20}\n",
      "0.7661043546246381 0.0098221088051614 {'learning_rate': 0.6, 'n_estimators': 30}\n",
      "0.7620665656958959 0.006661336829761537 {'learning_rate': 0.6, 'n_estimators': 50}\n",
      "0.7602148135213105 0.006102479616724018 {'learning_rate': 0.6, 'n_estimators': 100}\n",
      "0.7643965392386339 0.007374603668000828 {'learning_rate': 0.7, 'n_estimators': 10}\n",
      "0.7648617948864167 0.007015205345011231 {'learning_rate': 0.7, 'n_estimators': 20}\n",
      "0.7667595853363968 0.009078595156786431 {'learning_rate': 0.7, 'n_estimators': 30}\n",
      "0.7605027595270406 0.007157962582415792 {'learning_rate': 0.7, 'n_estimators': 50}\n",
      "0.7642605069307052 0.004292515484897258 {'learning_rate': 0.7, 'n_estimators': 100}\n"
     ]
    }
   ],
   "source": [
    "means = clf.cv_results_['mean_test_score']\n",
    "stds = clf.cv_results_['std_test_score']\n",
    "params = clf.cv_results_['params']\n",
    "for m,s,p in zip(means,stds,params):\n",
    "    print(m,s,p)"
   ]
  },
  {
   "cell_type": "code",
   "execution_count": 93,
   "metadata": {
    "collapsed": false
   },
   "outputs": [
    {
     "name": "stdout",
     "output_type": "stream",
     "text": [
      "f1_score: 0.49090909090909096\n",
      "Accuracy on train data: 0.9957133317536566\n",
      "Accuracy on test data: 0.9955195588488712\n"
     ]
    }
   ],
   "source": [
    "model = AdaBoostClassifier(learning_rate= 0.68, n_estimators= 11)\n",
    "model.fit(xtrain, ytrain)\n",
    "# ypred = model.predict(xtest)\n",
    "prediction = model.predict_proba(xtest) # predicting on the validation set\n",
    "prediction_int = prediction[:,1] >= 0.445 # if prediction is greater than or equal to 0.3 than 1 else 0\n",
    "ypred = prediction_int.astype(np.int)\n",
    "\n",
    "print(\"f1_score:\",f1_score(ytest, ypred)) # calculating f1 score\n",
    "print(\"Accuracy on train data:\",model.score(xtrain,ytrain))\n",
    "print(\"Accuracy on test data:\",model.score(xtest,ytest))"
   ]
  },
  {
   "cell_type": "code",
   "execution_count": 94,
   "metadata": {
    "collapsed": false,
    "scrolled": true
   },
   "outputs": [
    {
     "data": {
      "text/html": [
       "<div>\n",
       "<style scoped>\n",
       "    .dataframe tbody tr th:only-of-type {\n",
       "        vertical-align: middle;\n",
       "    }\n",
       "\n",
       "    .dataframe tbody tr th {\n",
       "        vertical-align: top;\n",
       "    }\n",
       "\n",
       "    .dataframe thead th {\n",
       "        text-align: right;\n",
       "    }\n",
       "</style>\n",
       "<table border=\"1\" class=\"dataframe\">\n",
       "  <thead>\n",
       "    <tr style=\"text-align: right;\">\n",
       "      <th>col_0</th>\n",
       "      <th>0</th>\n",
       "      <th>1</th>\n",
       "    </tr>\n",
       "    <tr>\n",
       "      <th>row_0</th>\n",
       "      <th></th>\n",
       "      <th></th>\n",
       "    </tr>\n",
       "  </thead>\n",
       "  <tbody>\n",
       "    <tr>\n",
       "      <th>0</th>\n",
       "      <td>23046</td>\n",
       "      <td>74</td>\n",
       "    </tr>\n",
       "    <tr>\n",
       "      <th>1</th>\n",
       "      <td>38</td>\n",
       "      <td>54</td>\n",
       "    </tr>\n",
       "  </tbody>\n",
       "</table>\n",
       "</div>"
      ],
      "text/plain": [
       "col_0      0   1\n",
       "row_0           \n",
       "0      23046  74\n",
       "1         38  54"
      ]
     },
     "execution_count": 94,
     "metadata": {},
     "output_type": "execute_result"
    }
   ],
   "source": [
    "pd.crosstab(ypred,ytest)"
   ]
  },
  {
   "cell_type": "code",
   "execution_count": 95,
   "metadata": {
    "collapsed": false,
    "scrolled": false
   },
   "outputs": [
    {
     "name": "stdout",
     "output_type": "stream",
     "text": [
      "              precision    recall  f1-score   support\n",
      "\n",
      "           0       1.00      1.00      1.00     23084\n",
      "           1       0.59      0.42      0.49       128\n",
      "\n",
      "    accuracy                           1.00     23212\n",
      "   macro avg       0.79      0.71      0.74     23212\n",
      "weighted avg       0.99      1.00      0.99     23212\n",
      "\n"
     ]
    }
   ],
   "source": [
    "print(classification_report(ytest,ypred))"
   ]
  },
  {
   "cell_type": "markdown",
   "metadata": {
    "collapsed": true
   },
   "source": [
    "* AdaBoostClassifier: f1-score goes upto 0.49 from 0.46 (simple model)\n",
    "* Also tuned threshold value & generated above result with cross validation, and looks like results are pretty much consistent"
   ]
  },
  {
   "cell_type": "code",
   "execution_count": null,
   "metadata": {
    "collapsed": true
   },
   "outputs": [],
   "source": []
  },
  {
   "cell_type": "code",
   "execution_count": null,
   "metadata": {
    "collapsed": true
   },
   "outputs": [],
   "source": []
  },
  {
   "cell_type": "markdown",
   "metadata": {
    "collapsed": true
   },
   "source": [
    "### 7) Finally generate test results for sample submission"
   ]
  },
  {
   "cell_type": "code",
   "execution_count": 98,
   "metadata": {
    "collapsed": false,
    "scrolled": false
   },
   "outputs": [
    {
     "data": {
      "text/plain": [
       "0    35709\n",
       "1      157\n",
       "Name: m13, dtype: int64"
      ]
     },
     "execution_count": 98,
     "metadata": {},
     "output_type": "execute_result"
    }
   ],
   "source": [
    "cols = ['interest_rate', 'unpaid_principal_bal', 'loan_to_value','number_of_borrowers', 'debt_to_income_ratio', 'borrower_credit_score',\n",
    "        'source_new','max_deliq' ,'m11', 'm12']                                # Finally selected columns\n",
    "\n",
    "train = df.iloc[:116058,:][cols]\n",
    "test = df.iloc[116058:,:][cols]\n",
    "ytrain = df_train['m13']\n",
    "\n",
    "model = AdaBoostClassifier(learning_rate=0.68,n_estimators=11)\n",
    "# model = LogisticRegression(C= 0.001, class_weight= 'balanced', penalty= 'l1')\n",
    "model.fit(train, ytrain) # training the model\n",
    "\n",
    "prediction = model.predict_proba(test) # predicting on the validation set\n",
    "prediction_int = prediction[:,1] >= 0.445# if prediction is greater than or equal to 0.3 than 1 else 0\n",
    "prediction_int = prediction_int.astype(np.int)\n",
    "\n",
    "# prediction_int = model.predict(test)\n",
    "\n",
    "df_sample_submission['m13'] = list(prediction_int)\n",
    "df_sample_submission['m13'].value_counts()"
   ]
  },
  {
   "cell_type": "code",
   "execution_count": 99,
   "metadata": {
    "collapsed": false
   },
   "outputs": [],
   "source": [
    "df_sample_submission.to_csv('submission_file.csv',index=False)"
   ]
  },
  {
   "cell_type": "code",
   "execution_count": null,
   "metadata": {
    "collapsed": true
   },
   "outputs": [],
   "source": []
  },
  {
   "cell_type": "code",
   "execution_count": null,
   "metadata": {
    "collapsed": true
   },
   "outputs": [],
   "source": []
  },
  {
   "cell_type": "code",
   "execution_count": null,
   "metadata": {
    "collapsed": true
   },
   "outputs": [],
   "source": []
  },
  {
   "cell_type": "code",
   "execution_count": null,
   "metadata": {
    "collapsed": true
   },
   "outputs": [],
   "source": []
  },
  {
   "cell_type": "code",
   "execution_count": null,
   "metadata": {
    "collapsed": true
   },
   "outputs": [],
   "source": []
  }
 ],
 "metadata": {
  "kernelspec": {
   "display_name": "Python 3",
   "language": "python",
   "name": "python3"
  },
  "language_info": {
   "codemirror_mode": {
    "name": "ipython",
    "version": 3
   },
   "file_extension": ".py",
   "mimetype": "text/x-python",
   "name": "python",
   "nbconvert_exporter": "python",
   "pygments_lexer": "ipython3",
   "version": "3.5.4"
  }
 },
 "nbformat": 4,
 "nbformat_minor": 2
}
